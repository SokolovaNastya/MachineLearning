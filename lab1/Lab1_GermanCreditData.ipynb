{
 "cells": [
  {
   "cell_type": "markdown",
   "metadata": {},
   "source": [
    "# Лабораторная работа №1\n",
    "## *Выполнила: Соколова Анастасия, 18 МАГ ИАД*"
   ]
  },
  {
   "cell_type": "markdown",
   "metadata": {},
   "source": [
    "### Задача\n",
    "Классифицировать людей, описанных определенным набором признаков, как обладающих \"хорошим\" или \"плохим\" кредитным риском"
   ]
  },
  {
   "cell_type": "markdown",
   "metadata": {},
   "source": [
    "### Данные\n",
    "https://archive.ics.uci.edu/ml/machine-learning-databases/statlog/german/"
   ]
  },
  {
   "cell_type": "markdown",
   "metadata": {},
   "source": [
    "### Описание данных\n",
    "Number of Instances: 1000   \n",
    "Number of Attributes german: 20 (7 numerical, 13 categorical)\n",
    "\n",
    "Attribute 1:  (qualitative)  \n",
    "\t       Status of existing checking account  \n",
    "           A11 :      ... <    0 DM  \n",
    "\t       A12 : 0 <= ... <  200 DM  \n",
    "\t       A13 :      ... >= 200 DM salary assignments for at least 1 year  \n",
    "           A14 : no checking account  \n",
    "\n",
    "Attribute 2:  (numerical)  \n",
    "\t      Duration in month  \n",
    "\n",
    "Attribute 3:  (qualitative)  \n",
    "\t      Credit history  \n",
    "\t      A30 : no credits taken all credits paid back duly  \n",
    "          A31 : all credits at this bank paid back duly  \n",
    "\t      A32 : existing credits paid back duly till now\n",
    "          A33 : delay in paying off in the past  \n",
    "\t      A34 : critical account/other credits existing (not at this bank)  \n",
    "\n",
    "Attribute 4:  (qualitative)  \n",
    "\t      Purpose  \n",
    "\t      A40 : car (new)  \n",
    "\t      A41 : car (used)  \n",
    "\t      A42 : furniture/equipment  \n",
    "\t      A43 : radio/television  \n",
    "\t      A44 : domestic appliances  \n",
    "\t      A45 : repairs  \n",
    "\t      A46 : education  \n",
    "\t      A47 : (vacation - does not exist?)  \n",
    "\t      A48 : retraining  \n",
    "\t      A49 : business  \n",
    "\t      A410 : others  \n",
    "\n",
    "Attribute 5:  (numerical)  \n",
    "\t      Credit amount  \n",
    "\n",
    "Attibute 6:  (qualitative)  \n",
    "\t      Savings account/bonds  \n",
    "\t      A61 :          ... <  100 DM  \n",
    "\t      A62 :   100 <= ... <  500 DM  \n",
    "\t      A63 :   500 <= ... < 1000 DM  \n",
    "\t      A64 :          .. >= 1000 DM  \n",
    "          A65 :   unknown/ no savings account  \n",
    "\n",
    "Attribute 7:  (qualitative)  \n",
    "\t      Present employment since  \n",
    "\t      A71 : unemployed  \n",
    "\t      A72 :       ... < 1 year  \n",
    "\t      A73 : 1  <= ... < 4 years  \n",
    "\t      A74 : 4  <= ... < 7 years  \n",
    "\t      A75 :       .. >= 7 years  \n",
    "\n",
    "Attribute 8:  (numerical)  \n",
    "\t      Installment rate in percentage of disposable income  \n",
    "\n",
    "Attribute 9:  (qualitative)  \n",
    "\t      Personal status and sex  \n",
    "\t      A91 : male   : divorced/separated  \n",
    "\t      A92 : female : divorced/separated/married  \n",
    "          A93 : male   : single  \n",
    "\t      A94 : male   : married/widowed  \n",
    "\t      A95 : female : single  \n",
    "\n",
    "Attribute 10: (qualitative)  \n",
    "\t      Other debtors / guarantors  \n",
    "\t      A101 : none  \n",
    "\t      A102 : co-applicant  \n",
    "\t      A103 : guarantor  \n",
    "\n",
    "Attribute 11: (numerical)  \n",
    "\t      Present residence since  \n",
    "\n",
    "Attribute 12: (qualitative)  \n",
    "\t      Property  \n",
    "\t      A121 : real estate  \n",
    "\t      A122 : if not A121 : building society savings agreement life insurance  \n",
    "          A123 : if not A121/A122 : car or other, not in attribute 6  \n",
    "\t      A124 : unknown / no property  \n",
    "\n",
    "Attribute 13: (numerical)  \n",
    "\t      Age in years  \n",
    "\n",
    "Attribute 14: (qualitative)  \n",
    "\t      Other installment plans   \n",
    "\t      A141 : bank  \n",
    "\t      A142 : stores  \n",
    "\t      A143 : none  \n",
    "\n",
    "Attribute 15: (qualitative)  \n",
    "\t      Housing  \n",
    "\t      A151 : rent  \n",
    "\t      A152 : own  \n",
    "\t      A153 : for free  \n",
    "\n",
    "Attribute 16: (numerical)  \n",
    "          Number of existing credits at this bank  \n",
    "\n",
    "Attribute 17: (qualitative)  \n",
    "\t      Job  \n",
    "\t      A171 : unemployed/ unskilled  - non-resident  \n",
    "\t      A172 : unskilled - resident  \n",
    "\t      A173 : skilled employee / official  \n",
    "\t      A174 : management/ self-employed/ highly qualified employee/ officer  \n",
    "\n",
    "Attribute 18: (numerical)  \n",
    "\t      Number of people being liable to provide maintenance for  \n",
    "\n",
    "Attribute 19: (qualitative)  \n",
    "\t      Telephone  \n",
    "\t      A191 : none  \n",
    "\t      A192 : yes, registered under the customers name  \n",
    "\n",
    "Attribute 20: (qualitative)  \n",
    "\t      foreign worker  \n",
    "\t      A201 : yes  \n",
    "\t      A202 : no  \n",
    "          \n",
    "Attribute 21: (numerical)  \n",
    "          Actual classification  \n",
    "          1 : Good  \n",
    "          2 : Bad  "
   ]
  },
  {
   "cell_type": "markdown",
   "metadata": {},
   "source": [
    "### Загрузим необходимые библиотеки"
   ]
  },
  {
   "cell_type": "code",
   "execution_count": 1,
   "metadata": {},
   "outputs": [],
   "source": [
    "import numpy as np\n",
    "import matplotlib.pyplot as plt\n",
    "import pandas as pd\n",
    "%matplotlib inline"
   ]
  },
  {
   "cell_type": "markdown",
   "metadata": {},
   "source": [
    "### Считаем данные из файла"
   ]
  },
  {
   "cell_type": "code",
   "execution_count": 2,
   "metadata": {},
   "outputs": [],
   "source": [
    "column_names = [u'status_account', u'duration', u'credit_history', \n",
    "                u'purpose', u'credit_amount', u'savings_account', u'employment', \n",
    "                u'installment_rate', u'sex_status', \n",
    "                u'other_debtors', u'present_residence', u'property', u'age', \n",
    "                u'other_plans', u'housing', u'number_credits_this_bank', \n",
    "                u'job', u'number_people_maintenance', \n",
    "                u'telephone', u'foreign_worker', u'class']"
   ]
  },
  {
   "cell_type": "markdown",
   "metadata": {},
   "source": [
    " - `status_account` - Status of existing checking account\n",
    " - `duration` - Duration in month\n",
    " - `credit_history` - Credit history\n",
    " - `purpose` - Purpose\n",
    " - `credit_amount` - Credit amount\n",
    " - `savings_account` - Savings account/bonds\n",
    " - `employment` - Present employment since\n",
    " - `installment_rat` - Installment rate in percentage of disposable income\n",
    " - `sex_status` - Personal status and sex\n",
    " - `other_debtors` - Other debtors / guarantors\n",
    " - `present_residence` - Present residence since\n",
    " - `property` - Property\n",
    " - `age` - Age in years\n",
    " - `other_plans` - Other installment plans \n",
    " - `housing` - Housing\n",
    " - `number_credits_this_bank` - Number of existing credits at this bank\n",
    " - `job` - Job\n",
    " - `number_people_maintenance` - Number of people being liable to provide maintenance for\n",
    " - `telephone` - Telephone\n",
    " - `foreign_worker` - Foreign worker"
   ]
  },
  {
   "cell_type": "code",
   "execution_count": 3,
   "metadata": {},
   "outputs": [],
   "source": [
    "data = pd.read_csv('german.data', sep = ' ', names = column_names, engine = 'python')"
   ]
  },
  {
   "cell_type": "code",
   "execution_count": 4,
   "metadata": {},
   "outputs": [
    {
     "data": {
      "text/plain": [
       "pandas.core.frame.DataFrame"
      ]
     },
     "execution_count": 4,
     "metadata": {},
     "output_type": "execute_result"
    }
   ],
   "source": [
    "# Тип данных\n",
    "type(data)"
   ]
  },
  {
   "cell_type": "code",
   "execution_count": 5,
   "metadata": {},
   "outputs": [
    {
     "data": {
      "text/html": [
       "<div>\n",
       "<style scoped>\n",
       "    .dataframe tbody tr th:only-of-type {\n",
       "        vertical-align: middle;\n",
       "    }\n",
       "\n",
       "    .dataframe tbody tr th {\n",
       "        vertical-align: top;\n",
       "    }\n",
       "\n",
       "    .dataframe thead th {\n",
       "        text-align: right;\n",
       "    }\n",
       "</style>\n",
       "<table border=\"1\" class=\"dataframe\">\n",
       "  <thead>\n",
       "    <tr style=\"text-align: right;\">\n",
       "      <th></th>\n",
       "      <th>status_account</th>\n",
       "      <th>duration</th>\n",
       "      <th>credit_history</th>\n",
       "      <th>purpose</th>\n",
       "      <th>credit_amount</th>\n",
       "      <th>savings_account</th>\n",
       "      <th>employment</th>\n",
       "      <th>installment_rate</th>\n",
       "      <th>sex_status</th>\n",
       "      <th>other_debtors</th>\n",
       "      <th>...</th>\n",
       "      <th>property</th>\n",
       "      <th>age</th>\n",
       "      <th>other_plans</th>\n",
       "      <th>housing</th>\n",
       "      <th>number_credits_this_bank</th>\n",
       "      <th>job</th>\n",
       "      <th>number_people_maintenance</th>\n",
       "      <th>telephone</th>\n",
       "      <th>foreign_worker</th>\n",
       "      <th>class</th>\n",
       "    </tr>\n",
       "  </thead>\n",
       "  <tbody>\n",
       "    <tr>\n",
       "      <th>0</th>\n",
       "      <td>A11</td>\n",
       "      <td>6</td>\n",
       "      <td>A34</td>\n",
       "      <td>A43</td>\n",
       "      <td>1169</td>\n",
       "      <td>A65</td>\n",
       "      <td>A75</td>\n",
       "      <td>4</td>\n",
       "      <td>A93</td>\n",
       "      <td>A101</td>\n",
       "      <td>...</td>\n",
       "      <td>A121</td>\n",
       "      <td>67</td>\n",
       "      <td>A143</td>\n",
       "      <td>A152</td>\n",
       "      <td>2</td>\n",
       "      <td>A173</td>\n",
       "      <td>1</td>\n",
       "      <td>A192</td>\n",
       "      <td>A201</td>\n",
       "      <td>1</td>\n",
       "    </tr>\n",
       "    <tr>\n",
       "      <th>1</th>\n",
       "      <td>A12</td>\n",
       "      <td>48</td>\n",
       "      <td>A32</td>\n",
       "      <td>A43</td>\n",
       "      <td>5951</td>\n",
       "      <td>A61</td>\n",
       "      <td>A73</td>\n",
       "      <td>2</td>\n",
       "      <td>A92</td>\n",
       "      <td>A101</td>\n",
       "      <td>...</td>\n",
       "      <td>A121</td>\n",
       "      <td>22</td>\n",
       "      <td>A143</td>\n",
       "      <td>A152</td>\n",
       "      <td>1</td>\n",
       "      <td>A173</td>\n",
       "      <td>1</td>\n",
       "      <td>A191</td>\n",
       "      <td>A201</td>\n",
       "      <td>2</td>\n",
       "    </tr>\n",
       "    <tr>\n",
       "      <th>2</th>\n",
       "      <td>A14</td>\n",
       "      <td>12</td>\n",
       "      <td>A34</td>\n",
       "      <td>A46</td>\n",
       "      <td>2096</td>\n",
       "      <td>A61</td>\n",
       "      <td>A74</td>\n",
       "      <td>2</td>\n",
       "      <td>A93</td>\n",
       "      <td>A101</td>\n",
       "      <td>...</td>\n",
       "      <td>A121</td>\n",
       "      <td>49</td>\n",
       "      <td>A143</td>\n",
       "      <td>A152</td>\n",
       "      <td>1</td>\n",
       "      <td>A172</td>\n",
       "      <td>2</td>\n",
       "      <td>A191</td>\n",
       "      <td>A201</td>\n",
       "      <td>1</td>\n",
       "    </tr>\n",
       "    <tr>\n",
       "      <th>3</th>\n",
       "      <td>A11</td>\n",
       "      <td>42</td>\n",
       "      <td>A32</td>\n",
       "      <td>A42</td>\n",
       "      <td>7882</td>\n",
       "      <td>A61</td>\n",
       "      <td>A74</td>\n",
       "      <td>2</td>\n",
       "      <td>A93</td>\n",
       "      <td>A103</td>\n",
       "      <td>...</td>\n",
       "      <td>A122</td>\n",
       "      <td>45</td>\n",
       "      <td>A143</td>\n",
       "      <td>A153</td>\n",
       "      <td>1</td>\n",
       "      <td>A173</td>\n",
       "      <td>2</td>\n",
       "      <td>A191</td>\n",
       "      <td>A201</td>\n",
       "      <td>1</td>\n",
       "    </tr>\n",
       "    <tr>\n",
       "      <th>4</th>\n",
       "      <td>A11</td>\n",
       "      <td>24</td>\n",
       "      <td>A33</td>\n",
       "      <td>A40</td>\n",
       "      <td>4870</td>\n",
       "      <td>A61</td>\n",
       "      <td>A73</td>\n",
       "      <td>3</td>\n",
       "      <td>A93</td>\n",
       "      <td>A101</td>\n",
       "      <td>...</td>\n",
       "      <td>A124</td>\n",
       "      <td>53</td>\n",
       "      <td>A143</td>\n",
       "      <td>A153</td>\n",
       "      <td>2</td>\n",
       "      <td>A173</td>\n",
       "      <td>2</td>\n",
       "      <td>A191</td>\n",
       "      <td>A201</td>\n",
       "      <td>2</td>\n",
       "    </tr>\n",
       "  </tbody>\n",
       "</table>\n",
       "<p>5 rows × 21 columns</p>\n",
       "</div>"
      ],
      "text/plain": [
       "  status_account  duration credit_history purpose  credit_amount  \\\n",
       "0            A11         6            A34     A43           1169   \n",
       "1            A12        48            A32     A43           5951   \n",
       "2            A14        12            A34     A46           2096   \n",
       "3            A11        42            A32     A42           7882   \n",
       "4            A11        24            A33     A40           4870   \n",
       "\n",
       "  savings_account employment  installment_rate sex_status other_debtors  ...   \\\n",
       "0             A65        A75                 4        A93          A101  ...    \n",
       "1             A61        A73                 2        A92          A101  ...    \n",
       "2             A61        A74                 2        A93          A101  ...    \n",
       "3             A61        A74                 2        A93          A103  ...    \n",
       "4             A61        A73                 3        A93          A101  ...    \n",
       "\n",
       "   property age  other_plans housing number_credits_this_bank   job  \\\n",
       "0      A121  67         A143    A152                        2  A173   \n",
       "1      A121  22         A143    A152                        1  A173   \n",
       "2      A121  49         A143    A152                        1  A172   \n",
       "3      A122  45         A143    A153                        1  A173   \n",
       "4      A124  53         A143    A153                        2  A173   \n",
       "\n",
       "  number_people_maintenance  telephone foreign_worker class  \n",
       "0                         1       A192           A201     1  \n",
       "1                         1       A191           A201     2  \n",
       "2                         2       A191           A201     1  \n",
       "3                         2       A191           A201     1  \n",
       "4                         2       A191           A201     2  \n",
       "\n",
       "[5 rows x 21 columns]"
      ]
     },
     "execution_count": 5,
     "metadata": {},
     "output_type": "execute_result"
    }
   ],
   "source": [
    "# Вывод первых строк\n",
    "data.head()"
   ]
  },
  {
   "cell_type": "code",
   "execution_count": 6,
   "metadata": {},
   "outputs": [
    {
     "data": {
      "text/html": [
       "<div>\n",
       "<style scoped>\n",
       "    .dataframe tbody tr th:only-of-type {\n",
       "        vertical-align: middle;\n",
       "    }\n",
       "\n",
       "    .dataframe tbody tr th {\n",
       "        vertical-align: top;\n",
       "    }\n",
       "\n",
       "    .dataframe thead th {\n",
       "        text-align: right;\n",
       "    }\n",
       "</style>\n",
       "<table border=\"1\" class=\"dataframe\">\n",
       "  <thead>\n",
       "    <tr style=\"text-align: right;\">\n",
       "      <th></th>\n",
       "      <th>status_account</th>\n",
       "      <th>duration</th>\n",
       "      <th>credit_history</th>\n",
       "      <th>purpose</th>\n",
       "      <th>credit_amount</th>\n",
       "      <th>savings_account</th>\n",
       "      <th>employment</th>\n",
       "      <th>installment_rate</th>\n",
       "      <th>sex_status</th>\n",
       "      <th>other_debtors</th>\n",
       "      <th>...</th>\n",
       "      <th>property</th>\n",
       "      <th>age</th>\n",
       "      <th>other_plans</th>\n",
       "      <th>housing</th>\n",
       "      <th>number_credits_this_bank</th>\n",
       "      <th>job</th>\n",
       "      <th>number_people_maintenance</th>\n",
       "      <th>telephone</th>\n",
       "      <th>foreign_worker</th>\n",
       "      <th>class</th>\n",
       "    </tr>\n",
       "  </thead>\n",
       "  <tbody>\n",
       "    <tr>\n",
       "      <th>995</th>\n",
       "      <td>A14</td>\n",
       "      <td>12</td>\n",
       "      <td>A32</td>\n",
       "      <td>A42</td>\n",
       "      <td>1736</td>\n",
       "      <td>A61</td>\n",
       "      <td>A74</td>\n",
       "      <td>3</td>\n",
       "      <td>A92</td>\n",
       "      <td>A101</td>\n",
       "      <td>...</td>\n",
       "      <td>A121</td>\n",
       "      <td>31</td>\n",
       "      <td>A143</td>\n",
       "      <td>A152</td>\n",
       "      <td>1</td>\n",
       "      <td>A172</td>\n",
       "      <td>1</td>\n",
       "      <td>A191</td>\n",
       "      <td>A201</td>\n",
       "      <td>1</td>\n",
       "    </tr>\n",
       "    <tr>\n",
       "      <th>996</th>\n",
       "      <td>A11</td>\n",
       "      <td>30</td>\n",
       "      <td>A32</td>\n",
       "      <td>A41</td>\n",
       "      <td>3857</td>\n",
       "      <td>A61</td>\n",
       "      <td>A73</td>\n",
       "      <td>4</td>\n",
       "      <td>A91</td>\n",
       "      <td>A101</td>\n",
       "      <td>...</td>\n",
       "      <td>A122</td>\n",
       "      <td>40</td>\n",
       "      <td>A143</td>\n",
       "      <td>A152</td>\n",
       "      <td>1</td>\n",
       "      <td>A174</td>\n",
       "      <td>1</td>\n",
       "      <td>A192</td>\n",
       "      <td>A201</td>\n",
       "      <td>1</td>\n",
       "    </tr>\n",
       "    <tr>\n",
       "      <th>997</th>\n",
       "      <td>A14</td>\n",
       "      <td>12</td>\n",
       "      <td>A32</td>\n",
       "      <td>A43</td>\n",
       "      <td>804</td>\n",
       "      <td>A61</td>\n",
       "      <td>A75</td>\n",
       "      <td>4</td>\n",
       "      <td>A93</td>\n",
       "      <td>A101</td>\n",
       "      <td>...</td>\n",
       "      <td>A123</td>\n",
       "      <td>38</td>\n",
       "      <td>A143</td>\n",
       "      <td>A152</td>\n",
       "      <td>1</td>\n",
       "      <td>A173</td>\n",
       "      <td>1</td>\n",
       "      <td>A191</td>\n",
       "      <td>A201</td>\n",
       "      <td>1</td>\n",
       "    </tr>\n",
       "    <tr>\n",
       "      <th>998</th>\n",
       "      <td>A11</td>\n",
       "      <td>45</td>\n",
       "      <td>A32</td>\n",
       "      <td>A43</td>\n",
       "      <td>1845</td>\n",
       "      <td>A61</td>\n",
       "      <td>A73</td>\n",
       "      <td>4</td>\n",
       "      <td>A93</td>\n",
       "      <td>A101</td>\n",
       "      <td>...</td>\n",
       "      <td>A124</td>\n",
       "      <td>23</td>\n",
       "      <td>A143</td>\n",
       "      <td>A153</td>\n",
       "      <td>1</td>\n",
       "      <td>A173</td>\n",
       "      <td>1</td>\n",
       "      <td>A192</td>\n",
       "      <td>A201</td>\n",
       "      <td>2</td>\n",
       "    </tr>\n",
       "    <tr>\n",
       "      <th>999</th>\n",
       "      <td>A12</td>\n",
       "      <td>45</td>\n",
       "      <td>A34</td>\n",
       "      <td>A41</td>\n",
       "      <td>4576</td>\n",
       "      <td>A62</td>\n",
       "      <td>A71</td>\n",
       "      <td>3</td>\n",
       "      <td>A93</td>\n",
       "      <td>A101</td>\n",
       "      <td>...</td>\n",
       "      <td>A123</td>\n",
       "      <td>27</td>\n",
       "      <td>A143</td>\n",
       "      <td>A152</td>\n",
       "      <td>1</td>\n",
       "      <td>A173</td>\n",
       "      <td>1</td>\n",
       "      <td>A191</td>\n",
       "      <td>A201</td>\n",
       "      <td>1</td>\n",
       "    </tr>\n",
       "  </tbody>\n",
       "</table>\n",
       "<p>5 rows × 21 columns</p>\n",
       "</div>"
      ],
      "text/plain": [
       "    status_account  duration credit_history purpose  credit_amount  \\\n",
       "995            A14        12            A32     A42           1736   \n",
       "996            A11        30            A32     A41           3857   \n",
       "997            A14        12            A32     A43            804   \n",
       "998            A11        45            A32     A43           1845   \n",
       "999            A12        45            A34     A41           4576   \n",
       "\n",
       "    savings_account employment  installment_rate sex_status other_debtors  \\\n",
       "995             A61        A74                 3        A92          A101   \n",
       "996             A61        A73                 4        A91          A101   \n",
       "997             A61        A75                 4        A93          A101   \n",
       "998             A61        A73                 4        A93          A101   \n",
       "999             A62        A71                 3        A93          A101   \n",
       "\n",
       "     ...   property age  other_plans housing number_credits_this_bank   job  \\\n",
       "995  ...       A121  31         A143    A152                        1  A172   \n",
       "996  ...       A122  40         A143    A152                        1  A174   \n",
       "997  ...       A123  38         A143    A152                        1  A173   \n",
       "998  ...       A124  23         A143    A153                        1  A173   \n",
       "999  ...       A123  27         A143    A152                        1  A173   \n",
       "\n",
       "    number_people_maintenance  telephone foreign_worker class  \n",
       "995                         1       A191           A201     1  \n",
       "996                         1       A192           A201     1  \n",
       "997                         1       A191           A201     1  \n",
       "998                         1       A192           A201     2  \n",
       "999                         1       A191           A201     1  \n",
       "\n",
       "[5 rows x 21 columns]"
      ]
     },
     "execution_count": 6,
     "metadata": {},
     "output_type": "execute_result"
    }
   ],
   "source": [
    "# Вывод последних строк\n",
    "data.tail()"
   ]
  },
  {
   "cell_type": "code",
   "execution_count": 7,
   "metadata": {},
   "outputs": [
    {
     "name": "stdout",
     "output_type": "stream",
     "text": [
      "(1000, 21)\n"
     ]
    }
   ],
   "source": [
    "# Печать размерности данных\n",
    "print(data.shape)"
   ]
  },
  {
   "cell_type": "code",
   "execution_count": 8,
   "metadata": {},
   "outputs": [
    {
     "data": {
      "text/plain": [
       "RangeIndex(start=0, stop=1000, step=1)"
      ]
     },
     "execution_count": 8,
     "metadata": {},
     "output_type": "execute_result"
    }
   ],
   "source": [
    "data.index"
   ]
  },
  {
   "cell_type": "code",
   "execution_count": 9,
   "metadata": {},
   "outputs": [
    {
     "data": {
      "text/plain": [
       "0    A34\n",
       "1    A32\n",
       "2    A34\n",
       "3    A32\n",
       "4    A33\n",
       "Name: credit_history, dtype: object"
      ]
     },
     "execution_count": 9,
     "metadata": {},
     "output_type": "execute_result"
    }
   ],
   "source": [
    "data['credit_history'].head()"
   ]
  },
  {
   "cell_type": "code",
   "execution_count": 10,
   "metadata": {},
   "outputs": [
    {
     "data": {
      "text/plain": [
       "'A34'"
      ]
     },
     "execution_count": 10,
     "metadata": {},
     "output_type": "execute_result"
    }
   ],
   "source": [
    "data.at[2, 'credit_history']"
   ]
  },
  {
   "cell_type": "code",
   "execution_count": 11,
   "metadata": {},
   "outputs": [
    {
     "data": {
      "text/plain": [
       "'A32'"
      ]
     },
     "execution_count": 11,
     "metadata": {},
     "output_type": "execute_result"
    }
   ],
   "source": [
    "data['credit_history'][3]"
   ]
  },
  {
   "cell_type": "code",
   "execution_count": 12,
   "metadata": {},
   "outputs": [
    {
     "data": {
      "text/plain": [
       "'int64'"
      ]
     },
     "execution_count": 12,
     "metadata": {},
     "output_type": "execute_result"
    }
   ],
   "source": [
    "data['credit_amount'].dtype.name"
   ]
  },
  {
   "cell_type": "code",
   "execution_count": 13,
   "metadata": {},
   "outputs": [
    {
     "data": {
      "text/plain": [
       "str"
      ]
     },
     "execution_count": 13,
     "metadata": {},
     "output_type": "execute_result"
    }
   ],
   "source": [
    "type(data['credit_history'][3])"
   ]
  },
  {
   "cell_type": "code",
   "execution_count": 14,
   "metadata": {},
   "outputs": [
    {
     "data": {
      "text/plain": [
       "pandas.core.series.Series"
      ]
     },
     "execution_count": 14,
     "metadata": {},
     "output_type": "execute_result"
    }
   ],
   "source": [
    "type(data['credit_history'])"
   ]
  },
  {
   "cell_type": "code",
   "execution_count": 15,
   "metadata": {},
   "outputs": [
    {
     "data": {
      "text/html": [
       "<div>\n",
       "<style scoped>\n",
       "    .dataframe tbody tr th:only-of-type {\n",
       "        vertical-align: middle;\n",
       "    }\n",
       "\n",
       "    .dataframe tbody tr th {\n",
       "        vertical-align: top;\n",
       "    }\n",
       "\n",
       "    .dataframe thead th {\n",
       "        text-align: right;\n",
       "    }\n",
       "</style>\n",
       "<table border=\"1\" class=\"dataframe\">\n",
       "  <thead>\n",
       "    <tr style=\"text-align: right;\">\n",
       "      <th></th>\n",
       "      <th>purpose</th>\n",
       "      <th>age</th>\n",
       "    </tr>\n",
       "  </thead>\n",
       "  <tbody>\n",
       "    <tr>\n",
       "      <th>0</th>\n",
       "      <td>A43</td>\n",
       "      <td>67</td>\n",
       "    </tr>\n",
       "    <tr>\n",
       "      <th>1</th>\n",
       "      <td>A43</td>\n",
       "      <td>22</td>\n",
       "    </tr>\n",
       "    <tr>\n",
       "      <th>2</th>\n",
       "      <td>A46</td>\n",
       "      <td>49</td>\n",
       "    </tr>\n",
       "    <tr>\n",
       "      <th>3</th>\n",
       "      <td>A42</td>\n",
       "      <td>45</td>\n",
       "    </tr>\n",
       "    <tr>\n",
       "      <th>4</th>\n",
       "      <td>A40</td>\n",
       "      <td>53</td>\n",
       "    </tr>\n",
       "  </tbody>\n",
       "</table>\n",
       "</div>"
      ],
      "text/plain": [
       "  purpose  age\n",
       "0     A43   67\n",
       "1     A43   22\n",
       "2     A46   49\n",
       "3     A42   45\n",
       "4     A40   53"
      ]
     },
     "execution_count": 15,
     "metadata": {},
     "output_type": "execute_result"
    }
   ],
   "source": [
    "data[['purpose', 'age']].head()"
   ]
  },
  {
   "cell_type": "code",
   "execution_count": 16,
   "metadata": {},
   "outputs": [
    {
     "data": {
      "text/plain": [
       "array(['A173', 'A172', 'A174', 'A171'], dtype=object)"
      ]
     },
     "execution_count": 16,
     "metadata": {},
     "output_type": "execute_result"
    }
   ],
   "source": [
    "data['job'].unique()"
   ]
  },
  {
   "cell_type": "code",
   "execution_count": 17,
   "metadata": {},
   "outputs": [
    {
     "name": "stdout",
     "output_type": "stream",
     "text": [
      "A65 6\n",
      "A61 48\n",
      "A63 24\n",
      "A64 12\n",
      "A62 24\n"
     ]
    }
   ],
   "source": [
    "for name in data['savings_account'].unique():\n",
    "    print(name, data['duration'][data['savings_account'] == name].iloc[0])"
   ]
  },
  {
   "cell_type": "markdown",
   "metadata": {},
   "source": [
    "### Характеристики признаков"
   ]
  },
  {
   "cell_type": "code",
   "execution_count": 18,
   "metadata": {},
   "outputs": [
    {
     "data": {
      "text/html": [
       "<div>\n",
       "<style scoped>\n",
       "    .dataframe tbody tr th:only-of-type {\n",
       "        vertical-align: middle;\n",
       "    }\n",
       "\n",
       "    .dataframe tbody tr th {\n",
       "        vertical-align: top;\n",
       "    }\n",
       "\n",
       "    .dataframe thead th {\n",
       "        text-align: right;\n",
       "    }\n",
       "</style>\n",
       "<table border=\"1\" class=\"dataframe\">\n",
       "  <thead>\n",
       "    <tr style=\"text-align: right;\">\n",
       "      <th></th>\n",
       "      <th>status_account</th>\n",
       "      <th>duration</th>\n",
       "      <th>credit_history</th>\n",
       "      <th>purpose</th>\n",
       "      <th>credit_amount</th>\n",
       "      <th>savings_account</th>\n",
       "      <th>employment</th>\n",
       "      <th>installment_rate</th>\n",
       "      <th>sex_status</th>\n",
       "      <th>other_debtors</th>\n",
       "      <th>...</th>\n",
       "      <th>property</th>\n",
       "      <th>age</th>\n",
       "      <th>other_plans</th>\n",
       "      <th>housing</th>\n",
       "      <th>number_credits_this_bank</th>\n",
       "      <th>job</th>\n",
       "      <th>number_people_maintenance</th>\n",
       "      <th>telephone</th>\n",
       "      <th>foreign_worker</th>\n",
       "      <th>class</th>\n",
       "    </tr>\n",
       "  </thead>\n",
       "  <tbody>\n",
       "    <tr>\n",
       "      <th>count</th>\n",
       "      <td>1000</td>\n",
       "      <td>1000.000000</td>\n",
       "      <td>1000</td>\n",
       "      <td>1000</td>\n",
       "      <td>1000.000000</td>\n",
       "      <td>1000</td>\n",
       "      <td>1000</td>\n",
       "      <td>1000.000000</td>\n",
       "      <td>1000</td>\n",
       "      <td>1000</td>\n",
       "      <td>...</td>\n",
       "      <td>1000</td>\n",
       "      <td>1000.000000</td>\n",
       "      <td>1000</td>\n",
       "      <td>1000</td>\n",
       "      <td>1000.000000</td>\n",
       "      <td>1000</td>\n",
       "      <td>1000.000000</td>\n",
       "      <td>1000</td>\n",
       "      <td>1000</td>\n",
       "      <td>1000.000000</td>\n",
       "    </tr>\n",
       "    <tr>\n",
       "      <th>unique</th>\n",
       "      <td>4</td>\n",
       "      <td>NaN</td>\n",
       "      <td>5</td>\n",
       "      <td>10</td>\n",
       "      <td>NaN</td>\n",
       "      <td>5</td>\n",
       "      <td>5</td>\n",
       "      <td>NaN</td>\n",
       "      <td>4</td>\n",
       "      <td>3</td>\n",
       "      <td>...</td>\n",
       "      <td>4</td>\n",
       "      <td>NaN</td>\n",
       "      <td>3</td>\n",
       "      <td>3</td>\n",
       "      <td>NaN</td>\n",
       "      <td>4</td>\n",
       "      <td>NaN</td>\n",
       "      <td>2</td>\n",
       "      <td>2</td>\n",
       "      <td>NaN</td>\n",
       "    </tr>\n",
       "    <tr>\n",
       "      <th>top</th>\n",
       "      <td>A14</td>\n",
       "      <td>NaN</td>\n",
       "      <td>A32</td>\n",
       "      <td>A43</td>\n",
       "      <td>NaN</td>\n",
       "      <td>A61</td>\n",
       "      <td>A73</td>\n",
       "      <td>NaN</td>\n",
       "      <td>A93</td>\n",
       "      <td>A101</td>\n",
       "      <td>...</td>\n",
       "      <td>A123</td>\n",
       "      <td>NaN</td>\n",
       "      <td>A143</td>\n",
       "      <td>A152</td>\n",
       "      <td>NaN</td>\n",
       "      <td>A173</td>\n",
       "      <td>NaN</td>\n",
       "      <td>A191</td>\n",
       "      <td>A201</td>\n",
       "      <td>NaN</td>\n",
       "    </tr>\n",
       "    <tr>\n",
       "      <th>freq</th>\n",
       "      <td>394</td>\n",
       "      <td>NaN</td>\n",
       "      <td>530</td>\n",
       "      <td>280</td>\n",
       "      <td>NaN</td>\n",
       "      <td>603</td>\n",
       "      <td>339</td>\n",
       "      <td>NaN</td>\n",
       "      <td>548</td>\n",
       "      <td>907</td>\n",
       "      <td>...</td>\n",
       "      <td>332</td>\n",
       "      <td>NaN</td>\n",
       "      <td>814</td>\n",
       "      <td>713</td>\n",
       "      <td>NaN</td>\n",
       "      <td>630</td>\n",
       "      <td>NaN</td>\n",
       "      <td>596</td>\n",
       "      <td>963</td>\n",
       "      <td>NaN</td>\n",
       "    </tr>\n",
       "    <tr>\n",
       "      <th>mean</th>\n",
       "      <td>NaN</td>\n",
       "      <td>20.903000</td>\n",
       "      <td>NaN</td>\n",
       "      <td>NaN</td>\n",
       "      <td>3271.258000</td>\n",
       "      <td>NaN</td>\n",
       "      <td>NaN</td>\n",
       "      <td>2.973000</td>\n",
       "      <td>NaN</td>\n",
       "      <td>NaN</td>\n",
       "      <td>...</td>\n",
       "      <td>NaN</td>\n",
       "      <td>35.546000</td>\n",
       "      <td>NaN</td>\n",
       "      <td>NaN</td>\n",
       "      <td>1.407000</td>\n",
       "      <td>NaN</td>\n",
       "      <td>1.155000</td>\n",
       "      <td>NaN</td>\n",
       "      <td>NaN</td>\n",
       "      <td>1.300000</td>\n",
       "    </tr>\n",
       "    <tr>\n",
       "      <th>std</th>\n",
       "      <td>NaN</td>\n",
       "      <td>12.058814</td>\n",
       "      <td>NaN</td>\n",
       "      <td>NaN</td>\n",
       "      <td>2822.736876</td>\n",
       "      <td>NaN</td>\n",
       "      <td>NaN</td>\n",
       "      <td>1.118715</td>\n",
       "      <td>NaN</td>\n",
       "      <td>NaN</td>\n",
       "      <td>...</td>\n",
       "      <td>NaN</td>\n",
       "      <td>11.375469</td>\n",
       "      <td>NaN</td>\n",
       "      <td>NaN</td>\n",
       "      <td>0.577654</td>\n",
       "      <td>NaN</td>\n",
       "      <td>0.362086</td>\n",
       "      <td>NaN</td>\n",
       "      <td>NaN</td>\n",
       "      <td>0.458487</td>\n",
       "    </tr>\n",
       "    <tr>\n",
       "      <th>min</th>\n",
       "      <td>NaN</td>\n",
       "      <td>4.000000</td>\n",
       "      <td>NaN</td>\n",
       "      <td>NaN</td>\n",
       "      <td>250.000000</td>\n",
       "      <td>NaN</td>\n",
       "      <td>NaN</td>\n",
       "      <td>1.000000</td>\n",
       "      <td>NaN</td>\n",
       "      <td>NaN</td>\n",
       "      <td>...</td>\n",
       "      <td>NaN</td>\n",
       "      <td>19.000000</td>\n",
       "      <td>NaN</td>\n",
       "      <td>NaN</td>\n",
       "      <td>1.000000</td>\n",
       "      <td>NaN</td>\n",
       "      <td>1.000000</td>\n",
       "      <td>NaN</td>\n",
       "      <td>NaN</td>\n",
       "      <td>1.000000</td>\n",
       "    </tr>\n",
       "    <tr>\n",
       "      <th>25%</th>\n",
       "      <td>NaN</td>\n",
       "      <td>12.000000</td>\n",
       "      <td>NaN</td>\n",
       "      <td>NaN</td>\n",
       "      <td>1365.500000</td>\n",
       "      <td>NaN</td>\n",
       "      <td>NaN</td>\n",
       "      <td>2.000000</td>\n",
       "      <td>NaN</td>\n",
       "      <td>NaN</td>\n",
       "      <td>...</td>\n",
       "      <td>NaN</td>\n",
       "      <td>27.000000</td>\n",
       "      <td>NaN</td>\n",
       "      <td>NaN</td>\n",
       "      <td>1.000000</td>\n",
       "      <td>NaN</td>\n",
       "      <td>1.000000</td>\n",
       "      <td>NaN</td>\n",
       "      <td>NaN</td>\n",
       "      <td>1.000000</td>\n",
       "    </tr>\n",
       "    <tr>\n",
       "      <th>50%</th>\n",
       "      <td>NaN</td>\n",
       "      <td>18.000000</td>\n",
       "      <td>NaN</td>\n",
       "      <td>NaN</td>\n",
       "      <td>2319.500000</td>\n",
       "      <td>NaN</td>\n",
       "      <td>NaN</td>\n",
       "      <td>3.000000</td>\n",
       "      <td>NaN</td>\n",
       "      <td>NaN</td>\n",
       "      <td>...</td>\n",
       "      <td>NaN</td>\n",
       "      <td>33.000000</td>\n",
       "      <td>NaN</td>\n",
       "      <td>NaN</td>\n",
       "      <td>1.000000</td>\n",
       "      <td>NaN</td>\n",
       "      <td>1.000000</td>\n",
       "      <td>NaN</td>\n",
       "      <td>NaN</td>\n",
       "      <td>1.000000</td>\n",
       "    </tr>\n",
       "    <tr>\n",
       "      <th>75%</th>\n",
       "      <td>NaN</td>\n",
       "      <td>24.000000</td>\n",
       "      <td>NaN</td>\n",
       "      <td>NaN</td>\n",
       "      <td>3972.250000</td>\n",
       "      <td>NaN</td>\n",
       "      <td>NaN</td>\n",
       "      <td>4.000000</td>\n",
       "      <td>NaN</td>\n",
       "      <td>NaN</td>\n",
       "      <td>...</td>\n",
       "      <td>NaN</td>\n",
       "      <td>42.000000</td>\n",
       "      <td>NaN</td>\n",
       "      <td>NaN</td>\n",
       "      <td>2.000000</td>\n",
       "      <td>NaN</td>\n",
       "      <td>1.000000</td>\n",
       "      <td>NaN</td>\n",
       "      <td>NaN</td>\n",
       "      <td>2.000000</td>\n",
       "    </tr>\n",
       "    <tr>\n",
       "      <th>max</th>\n",
       "      <td>NaN</td>\n",
       "      <td>72.000000</td>\n",
       "      <td>NaN</td>\n",
       "      <td>NaN</td>\n",
       "      <td>18424.000000</td>\n",
       "      <td>NaN</td>\n",
       "      <td>NaN</td>\n",
       "      <td>4.000000</td>\n",
       "      <td>NaN</td>\n",
       "      <td>NaN</td>\n",
       "      <td>...</td>\n",
       "      <td>NaN</td>\n",
       "      <td>75.000000</td>\n",
       "      <td>NaN</td>\n",
       "      <td>NaN</td>\n",
       "      <td>4.000000</td>\n",
       "      <td>NaN</td>\n",
       "      <td>2.000000</td>\n",
       "      <td>NaN</td>\n",
       "      <td>NaN</td>\n",
       "      <td>2.000000</td>\n",
       "    </tr>\n",
       "  </tbody>\n",
       "</table>\n",
       "<p>11 rows × 21 columns</p>\n",
       "</div>"
      ],
      "text/plain": [
       "       status_account     duration credit_history purpose  credit_amount  \\\n",
       "count            1000  1000.000000           1000    1000    1000.000000   \n",
       "unique              4          NaN              5      10            NaN   \n",
       "top               A14          NaN            A32     A43            NaN   \n",
       "freq              394          NaN            530     280            NaN   \n",
       "mean              NaN    20.903000            NaN     NaN    3271.258000   \n",
       "std               NaN    12.058814            NaN     NaN    2822.736876   \n",
       "min               NaN     4.000000            NaN     NaN     250.000000   \n",
       "25%               NaN    12.000000            NaN     NaN    1365.500000   \n",
       "50%               NaN    18.000000            NaN     NaN    2319.500000   \n",
       "75%               NaN    24.000000            NaN     NaN    3972.250000   \n",
       "max               NaN    72.000000            NaN     NaN   18424.000000   \n",
       "\n",
       "       savings_account employment  installment_rate sex_status other_debtors  \\\n",
       "count             1000       1000       1000.000000       1000          1000   \n",
       "unique               5          5               NaN          4             3   \n",
       "top                A61        A73               NaN        A93          A101   \n",
       "freq               603        339               NaN        548           907   \n",
       "mean               NaN        NaN          2.973000        NaN           NaN   \n",
       "std                NaN        NaN          1.118715        NaN           NaN   \n",
       "min                NaN        NaN          1.000000        NaN           NaN   \n",
       "25%                NaN        NaN          2.000000        NaN           NaN   \n",
       "50%                NaN        NaN          3.000000        NaN           NaN   \n",
       "75%                NaN        NaN          4.000000        NaN           NaN   \n",
       "max                NaN        NaN          4.000000        NaN           NaN   \n",
       "\n",
       "           ...       property          age  other_plans housing  \\\n",
       "count      ...           1000  1000.000000         1000    1000   \n",
       "unique     ...              4          NaN            3       3   \n",
       "top        ...           A123          NaN         A143    A152   \n",
       "freq       ...            332          NaN          814     713   \n",
       "mean       ...            NaN    35.546000          NaN     NaN   \n",
       "std        ...            NaN    11.375469          NaN     NaN   \n",
       "min        ...            NaN    19.000000          NaN     NaN   \n",
       "25%        ...            NaN    27.000000          NaN     NaN   \n",
       "50%        ...            NaN    33.000000          NaN     NaN   \n",
       "75%        ...            NaN    42.000000          NaN     NaN   \n",
       "max        ...            NaN    75.000000          NaN     NaN   \n",
       "\n",
       "       number_credits_this_bank   job number_people_maintenance  telephone  \\\n",
       "count               1000.000000  1000               1000.000000       1000   \n",
       "unique                      NaN     4                       NaN          2   \n",
       "top                         NaN  A173                       NaN       A191   \n",
       "freq                        NaN   630                       NaN        596   \n",
       "mean                   1.407000   NaN                  1.155000        NaN   \n",
       "std                    0.577654   NaN                  0.362086        NaN   \n",
       "min                    1.000000   NaN                  1.000000        NaN   \n",
       "25%                    1.000000   NaN                  1.000000        NaN   \n",
       "50%                    1.000000   NaN                  1.000000        NaN   \n",
       "75%                    2.000000   NaN                  1.000000        NaN   \n",
       "max                    4.000000   NaN                  2.000000        NaN   \n",
       "\n",
       "       foreign_worker        class  \n",
       "count            1000  1000.000000  \n",
       "unique              2          NaN  \n",
       "top              A201          NaN  \n",
       "freq              963          NaN  \n",
       "mean              NaN     1.300000  \n",
       "std               NaN     0.458487  \n",
       "min               NaN     1.000000  \n",
       "25%               NaN     1.000000  \n",
       "50%               NaN     1.000000  \n",
       "75%               NaN     2.000000  \n",
       "max               NaN     2.000000  \n",
       "\n",
       "[11 rows x 21 columns]"
      ]
     },
     "execution_count": 18,
     "metadata": {},
     "output_type": "execute_result"
    }
   ],
   "source": [
    "data.describe(include = 'all')"
   ]
  },
  {
   "cell_type": "markdown",
   "metadata": {},
   "source": [
    "### Bизуализация зависимости признаков"
   ]
  },
  {
   "cell_type": "code",
   "execution_count": 19,
   "metadata": {},
   "outputs": [
    {
     "data": {
      "image/png": "[encoded data removed]",
      "text/plain": [
       "<Figure size 1080x1080 with 64 Axes>"
      ]
     },
     "metadata": {
      "needs_background": "light"
     },
     "output_type": "display_data"
    }
   ],
   "source": [
    "from pandas.plotting import scatter_matrix\n",
    "scatter_matrix(data, alpha = .05, figsize = (15, 15))\n",
    "pass"
   ]
  },
  {
   "cell_type": "markdown",
   "metadata": {},
   "source": [
    "### Корреляционная матрица"
   ]
  },
  {
   "cell_type": "code",
   "execution_count": 20,
   "metadata": {},
   "outputs": [
    {
     "data": {
      "text/html": [
       "<div>\n",
       "<style scoped>\n",
       "    .dataframe tbody tr th:only-of-type {\n",
       "        vertical-align: middle;\n",
       "    }\n",
       "\n",
       "    .dataframe tbody tr th {\n",
       "        vertical-align: top;\n",
       "    }\n",
       "\n",
       "    .dataframe thead th {\n",
       "        text-align: right;\n",
       "    }\n",
       "</style>\n",
       "<table border=\"1\" class=\"dataframe\">\n",
       "  <thead>\n",
       "    <tr style=\"text-align: right;\">\n",
       "      <th></th>\n",
       "      <th>duration</th>\n",
       "      <th>credit_amount</th>\n",
       "      <th>installment_rate</th>\n",
       "      <th>present_residence</th>\n",
       "      <th>age</th>\n",
       "      <th>number_credits_this_bank</th>\n",
       "      <th>number_people_maintenance</th>\n",
       "      <th>class</th>\n",
       "    </tr>\n",
       "  </thead>\n",
       "  <tbody>\n",
       "    <tr>\n",
       "      <th>duration</th>\n",
       "      <td>1.000000</td>\n",
       "      <td>0.624984</td>\n",
       "      <td>0.074749</td>\n",
       "      <td>0.034067</td>\n",
       "      <td>-0.036136</td>\n",
       "      <td>-0.011284</td>\n",
       "      <td>-0.023834</td>\n",
       "      <td>0.214927</td>\n",
       "    </tr>\n",
       "    <tr>\n",
       "      <th>credit_amount</th>\n",
       "      <td>0.624984</td>\n",
       "      <td>1.000000</td>\n",
       "      <td>-0.271316</td>\n",
       "      <td>0.028926</td>\n",
       "      <td>0.032716</td>\n",
       "      <td>0.020795</td>\n",
       "      <td>0.017142</td>\n",
       "      <td>0.154739</td>\n",
       "    </tr>\n",
       "    <tr>\n",
       "      <th>installment_rate</th>\n",
       "      <td>0.074749</td>\n",
       "      <td>-0.271316</td>\n",
       "      <td>1.000000</td>\n",
       "      <td>0.049302</td>\n",
       "      <td>0.058266</td>\n",
       "      <td>0.021669</td>\n",
       "      <td>-0.071207</td>\n",
       "      <td>0.072404</td>\n",
       "    </tr>\n",
       "    <tr>\n",
       "      <th>present_residence</th>\n",
       "      <td>0.034067</td>\n",
       "      <td>0.028926</td>\n",
       "      <td>0.049302</td>\n",
       "      <td>1.000000</td>\n",
       "      <td>0.266419</td>\n",
       "      <td>0.089625</td>\n",
       "      <td>0.042643</td>\n",
       "      <td>0.002967</td>\n",
       "    </tr>\n",
       "    <tr>\n",
       "      <th>age</th>\n",
       "      <td>-0.036136</td>\n",
       "      <td>0.032716</td>\n",
       "      <td>0.058266</td>\n",
       "      <td>0.266419</td>\n",
       "      <td>1.000000</td>\n",
       "      <td>0.149254</td>\n",
       "      <td>0.118201</td>\n",
       "      <td>-0.091127</td>\n",
       "    </tr>\n",
       "    <tr>\n",
       "      <th>number_credits_this_bank</th>\n",
       "      <td>-0.011284</td>\n",
       "      <td>0.020795</td>\n",
       "      <td>0.021669</td>\n",
       "      <td>0.089625</td>\n",
       "      <td>0.149254</td>\n",
       "      <td>1.000000</td>\n",
       "      <td>0.109667</td>\n",
       "      <td>-0.045732</td>\n",
       "    </tr>\n",
       "    <tr>\n",
       "      <th>number_people_maintenance</th>\n",
       "      <td>-0.023834</td>\n",
       "      <td>0.017142</td>\n",
       "      <td>-0.071207</td>\n",
       "      <td>0.042643</td>\n",
       "      <td>0.118201</td>\n",
       "      <td>0.109667</td>\n",
       "      <td>1.000000</td>\n",
       "      <td>-0.003015</td>\n",
       "    </tr>\n",
       "    <tr>\n",
       "      <th>class</th>\n",
       "      <td>0.214927</td>\n",
       "      <td>0.154739</td>\n",
       "      <td>0.072404</td>\n",
       "      <td>0.002967</td>\n",
       "      <td>-0.091127</td>\n",
       "      <td>-0.045732</td>\n",
       "      <td>-0.003015</td>\n",
       "      <td>1.000000</td>\n",
       "    </tr>\n",
       "  </tbody>\n",
       "</table>\n",
       "</div>"
      ],
      "text/plain": [
       "                           duration  credit_amount  installment_rate  \\\n",
       "duration                   1.000000       0.624984          0.074749   \n",
       "credit_amount              0.624984       1.000000         -0.271316   \n",
       "installment_rate           0.074749      -0.271316          1.000000   \n",
       "present_residence          0.034067       0.028926          0.049302   \n",
       "age                       -0.036136       0.032716          0.058266   \n",
       "number_credits_this_bank  -0.011284       0.020795          0.021669   \n",
       "number_people_maintenance -0.023834       0.017142         -0.071207   \n",
       "class                      0.214927       0.154739          0.072404   \n",
       "\n",
       "                           present_residence       age  \\\n",
       "duration                            0.034067 -0.036136   \n",
       "credit_amount                       0.028926  0.032716   \n",
       "installment_rate                    0.049302  0.058266   \n",
       "present_residence                   1.000000  0.266419   \n",
       "age                                 0.266419  1.000000   \n",
       "number_credits_this_bank            0.089625  0.149254   \n",
       "number_people_maintenance           0.042643  0.118201   \n",
       "class                               0.002967 -0.091127   \n",
       "\n",
       "                           number_credits_this_bank  \\\n",
       "duration                                  -0.011284   \n",
       "credit_amount                              0.020795   \n",
       "installment_rate                           0.021669   \n",
       "present_residence                          0.089625   \n",
       "age                                        0.149254   \n",
       "number_credits_this_bank                   1.000000   \n",
       "number_people_maintenance                  0.109667   \n",
       "class                                     -0.045732   \n",
       "\n",
       "                           number_people_maintenance     class  \n",
       "duration                                   -0.023834  0.214927  \n",
       "credit_amount                               0.017142  0.154739  \n",
       "installment_rate                           -0.071207  0.072404  \n",
       "present_residence                           0.042643  0.002967  \n",
       "age                                         0.118201 -0.091127  \n",
       "number_credits_this_bank                    0.109667 -0.045732  \n",
       "number_people_maintenance                   1.000000 -0.003015  \n",
       "class                                      -0.003015  1.000000  "
      ]
     },
     "execution_count": 20,
     "metadata": {},
     "output_type": "execute_result"
    }
   ],
   "source": [
    "data.corr()"
   ]
  },
  {
   "cell_type": "markdown",
   "metadata": {},
   "source": [
    "#### Как видно из матрицы, наибольшее значение на определение риска клиента, скорее всего, имеют параметры credit_amount, duration, age, present_residence (корреляции больше 0.25). Попробуем визуализировать зависимости между этими признаками и риском клиента"
   ]
  },
  {
   "cell_type": "code",
   "execution_count": 21,
   "metadata": {},
   "outputs": [
    {
     "data": {
      "image/png": "[encoded data removed]",
      "text/plain": [
       "<Figure size 720x720 with 25 Axes>"
      ]
     },
     "metadata": {
      "needs_background": "light"
     },
     "output_type": "display_data"
    }
   ],
   "source": [
    "sub_data = data[['credit_amount','duration','age','present_residence','class']]\n",
    "scatter_matrix(sub_data, alpha = .05, figsize = (10, 10))\n",
    "pass"
   ]
  },
  {
   "cell_type": "code",
   "execution_count": 22,
   "metadata": {},
   "outputs": [
    {
     "data": {
      "text/plain": [
       "0     True\n",
       "1    False\n",
       "2     True\n",
       "3     True\n",
       "4    False\n",
       "Name: class, dtype: bool"
      ]
     },
     "execution_count": 22,
     "metadata": {},
     "output_type": "execute_result"
    }
   ],
   "source": [
    "(data['class'] == 1).head()"
   ]
  },
  {
   "cell_type": "code",
   "execution_count": 23,
   "metadata": {},
   "outputs": [
    {
     "data": {
      "image/png": "[encoded data removed]",
      "text/plain": [
       "<Figure size 720x576 with 1 Axes>"
      ]
     },
     "metadata": {
      "needs_background": "light"
     },
     "output_type": "display_data"
    }
   ],
   "source": [
    "plt.figure(figsize = (10, 8))\n",
    "\n",
    "plt.scatter(data[data['class'] == 1]['duration'],\n",
    "            data[data['class'] == 1]['credit_amount'],\n",
    "            alpha = 0.15,\n",
    "            label = 'Good',\n",
    "            color = 'b')\n",
    "\n",
    "plt.scatter(data[data['class'] == 2]['duration'],\n",
    "            data[data['class'] == 2]['credit_amount'],\n",
    "            alpha = 0.05,\n",
    "            label = 'Bad',\n",
    "            color = 'r')\n",
    "\n",
    "plt.xlabel('Duration')\n",
    "plt.ylabel('Credit_amount')\n",
    "plt.legend()\n",
    "plt.grid()"
   ]
  },
  {
   "cell_type": "code",
   "execution_count": 24,
   "metadata": {},
   "outputs": [
    {
     "data": {
      "image/png": "[encoded data removed]",
      "text/plain": [
       "<Figure size 720x720 with 1 Axes>"
      ]
     },
     "metadata": {
      "needs_background": "light"
     },
     "output_type": "display_data"
    }
   ],
   "source": [
    "np.random.seed(0)\n",
    "rate_rnd = data['duration'] + np.random.rand(data.shape[0]) - .5\n",
    "\n",
    "plt.figure(figsize = (10, 10))\n",
    "\n",
    "plt.scatter(rate_rnd[data['class'] == 1],\n",
    "            data[data['class'] == 1]['credit_amount'],\n",
    "            alpha = 0.15,\n",
    "            label = 'Good',\n",
    "            color = 'b')\n",
    "\n",
    "plt.scatter(rate_rnd[data['class'] == 2],\n",
    "            data[data['class'] == 2]['credit_amount'],\n",
    "            alpha = 0.15,\n",
    "            label = 'Bad',\n",
    "            color = 'r')\n",
    "\n",
    "plt.xlabel('Duration')\n",
    "plt.ylabel('Credit_amount')\n",
    "plt.legend()\n",
    "plt.grid()"
   ]
  },
  {
   "cell_type": "markdown",
   "metadata": {},
   "source": [
    "### Подготовка данных"
   ]
  },
  {
   "cell_type": "code",
   "execution_count": 25,
   "metadata": {},
   "outputs": [],
   "source": [
    "# Удаление признаков\n",
    "data = data.drop('number_people_maintenance', axis = 1).drop('telephone', axis = 1)"
   ]
  },
  {
   "cell_type": "markdown",
   "metadata": {},
   "source": [
    " `number_people_maintenance`, `telephone` - можно удалить, так как они сильно не влияют на результат, некоторые из них не информативны"
   ]
  },
  {
   "cell_type": "code",
   "execution_count": 26,
   "metadata": {},
   "outputs": [
    {
     "name": "stdout",
     "output_type": "stream",
     "text": [
      "['status_account', 'credit_history', 'purpose', 'savings_account', 'employment', 'sex_status', 'other_debtors', 'property', 'other_plans', 'housing', 'job', 'foreign_worker']\n",
      "['duration', 'credit_amount', 'installment_rate', 'present_residence', 'age', 'number_credits_this_bank', 'class']\n"
     ]
    }
   ],
   "source": [
    "# Деление оставшихся переменных на качественные и количественные\n",
    "categorical_columns = [c for c in data.columns if data[c].dtype.name == 'object']\n",
    "numerical_columns   = [c for c in data.columns if data[c].dtype.name != 'object']\n",
    "print(categorical_columns)\n",
    "print(numerical_columns)"
   ]
  },
  {
   "cell_type": "code",
   "execution_count": 27,
   "metadata": {},
   "outputs": [
    {
     "name": "stdout",
     "output_type": "stream",
     "text": [
      "status_account ['A11' 'A12' 'A14' 'A13']\n",
      "credit_history ['A34' 'A32' 'A33' 'A30' 'A31']\n",
      "purpose ['A43' 'A46' 'A42' 'A40' 'A41' 'A49' 'A44' 'A45' 'A410' 'A48']\n",
      "savings_account ['A65' 'A61' 'A63' 'A64' 'A62']\n",
      "employment ['A75' 'A73' 'A74' 'A71' 'A72']\n",
      "sex_status ['A93' 'A92' 'A91' 'A94']\n",
      "other_debtors ['A101' 'A103' 'A102']\n",
      "property ['A121' 'A122' 'A124' 'A123']\n",
      "other_plans ['A143' 'A141' 'A142']\n",
      "housing ['A152' 'A153' 'A151']\n",
      "job ['A173' 'A172' 'A174' 'A171']\n",
      "foreign_worker ['A201' 'A202']\n"
     ]
    }
   ],
   "source": [
    "for c in categorical_columns:\n",
    "    print(c, data[c].unique())"
   ]
  },
  {
   "cell_type": "markdown",
   "metadata": {},
   "source": [
    "### Обработка пропусков"
   ]
  },
  {
   "cell_type": "code",
   "execution_count": 28,
   "metadata": {},
   "outputs": [
    {
     "data": {
      "text/plain": [
       "duration                    1000\n",
       "credit_amount               1000\n",
       "installment_rate            1000\n",
       "present_residence           1000\n",
       "age                         1000\n",
       "number_credits_this_bank    1000\n",
       "class                       1000\n",
       "dtype: int64"
      ]
     },
     "execution_count": 28,
     "metadata": {},
     "output_type": "execute_result"
    }
   ],
   "source": [
    "data[numerical_columns].count(axis = 0)"
   ]
  },
  {
   "cell_type": "code",
   "execution_count": 29,
   "metadata": {},
   "outputs": [
    {
     "data": {
      "text/plain": [
       "status_account     1000\n",
       "credit_history     1000\n",
       "purpose            1000\n",
       "savings_account    1000\n",
       "employment         1000\n",
       "sex_status         1000\n",
       "other_debtors      1000\n",
       "property           1000\n",
       "other_plans        1000\n",
       "housing            1000\n",
       "job                1000\n",
       "foreign_worker     1000\n",
       "dtype: int64"
      ]
     },
     "execution_count": 29,
     "metadata": {},
     "output_type": "execute_result"
    }
   ],
   "source": [
    "data[categorical_columns].count(axis = 0)"
   ]
  },
  {
   "cell_type": "markdown",
   "metadata": {},
   "source": [
    "#### Нет пропущенных значений, так как по каждому атрибуту 1000 элементов (как размер базы данных)"
   ]
  },
  {
   "cell_type": "markdown",
   "metadata": {},
   "source": [
    "### Векторизация"
   ]
  },
  {
   "cell_type": "code",
   "execution_count": 30,
   "metadata": {},
   "outputs": [
    {
     "name": "stdout",
     "output_type": "stream",
     "text": [
      "['foreign_worker'] ['status_account', 'credit_history', 'purpose', 'savings_account', 'employment', 'sex_status', 'other_debtors', 'property', 'other_plans', 'housing', 'job']\n"
     ]
    }
   ],
   "source": [
    "data_describe = data.describe(include = [object])\n",
    "binary_columns    = [c for c in categorical_columns if data_describe[c]['unique'] == 2]\n",
    "nonbinary_columns = [c for c in categorical_columns if data_describe[c]['unique'] > 2]\n",
    "print(binary_columns, nonbinary_columns)"
   ]
  },
  {
   "cell_type": "markdown",
   "metadata": {},
   "source": [
    "#### Приведем к бинарному представлению"
   ]
  },
  {
   "cell_type": "code",
   "execution_count": 31,
   "metadata": {},
   "outputs": [
    {
     "data": {
      "text/plain": [
       "count    1000.000000\n",
       "mean        0.963000\n",
       "std         0.188856\n",
       "min         0.000000\n",
       "25%         1.000000\n",
       "50%         1.000000\n",
       "75%         1.000000\n",
       "max         1.000000\n",
       "Name: foreign_worker, dtype: float64"
      ]
     },
     "execution_count": 31,
     "metadata": {},
     "output_type": "execute_result"
    }
   ],
   "source": [
    "data.at[data['foreign_worker'] == 'A202', 'foreign_worker'] = 0\n",
    "data.at[data['foreign_worker'] == 'A201', 'foreign_worker'] = 1\n",
    "data['foreign_worker'].describe()"
   ]
  },
  {
   "cell_type": "markdown",
   "metadata": {},
   "source": [
    "#### Преобразуем категориальные признаки"
   ]
  },
  {
   "cell_type": "markdown",
   "metadata": {},
   "source": [
    "Признак `j`, принимающий `s` значений, заменим на `s` признаков, принимащих значения `0` или `1`, в зависимости от того, чему равно значение исходного признака `j`"
   ]
  },
  {
   "cell_type": "code",
   "execution_count": 32,
   "metadata": {},
   "outputs": [
    {
     "name": "stdout",
     "output_type": "stream",
     "text": [
      "Index(['status_account_A11', 'status_account_A12', 'status_account_A13',\n",
      "       'status_account_A14', 'credit_history_A30', 'credit_history_A31',\n",
      "       'credit_history_A32', 'credit_history_A33', 'credit_history_A34',\n",
      "       'purpose_A40', 'purpose_A41', 'purpose_A410', 'purpose_A42',\n",
      "       'purpose_A43', 'purpose_A44', 'purpose_A45', 'purpose_A46',\n",
      "       'purpose_A48', 'purpose_A49', 'savings_account_A61',\n",
      "       'savings_account_A62', 'savings_account_A63', 'savings_account_A64',\n",
      "       'savings_account_A65', 'employment_A71', 'employment_A72',\n",
      "       'employment_A73', 'employment_A74', 'employment_A75', 'sex_status_A91',\n",
      "       'sex_status_A92', 'sex_status_A93', 'sex_status_A94',\n",
      "       'other_debtors_A101', 'other_debtors_A102', 'other_debtors_A103',\n",
      "       'property_A121', 'property_A122', 'property_A123', 'property_A124',\n",
      "       'other_plans_A141', 'other_plans_A142', 'other_plans_A143',\n",
      "       'housing_A151', 'housing_A152', 'housing_A153', 'job_A171', 'job_A172',\n",
      "       'job_A173', 'job_A174'],\n",
      "      dtype='object')\n"
     ]
    }
   ],
   "source": [
    "data_nonbinary = pd.get_dummies(data[nonbinary_columns])\n",
    "print(data_nonbinary.columns)"
   ]
  },
  {
   "cell_type": "markdown",
   "metadata": {},
   "source": [
    "## Нормализация количественных признаков"
   ]
  },
  {
   "cell_type": "markdown",
   "metadata": {},
   "source": [
    "Многие алгоритмы машинного обучения чувствительны к масштабированию данных.\n",
    "К таким алгоритмам, например, относится метод ближайших соседей, машина опорных векторов и др.\n",
    "\n",
    "В этом случае количественные признаки полезно _нормализовать_.\n",
    "Это можно делать разными способами.\n",
    "Например, каждый количественный признак приведем к нулевому среднему и единичному среднеквадратичному отклонению:"
   ]
  },
  {
   "cell_type": "code",
   "execution_count": 33,
   "metadata": {},
   "outputs": [
    {
     "data": {
      "text/html": [
       "<div>\n",
       "<style scoped>\n",
       "    .dataframe tbody tr th:only-of-type {\n",
       "        vertical-align: middle;\n",
       "    }\n",
       "\n",
       "    .dataframe tbody tr th {\n",
       "        vertical-align: top;\n",
       "    }\n",
       "\n",
       "    .dataframe thead th {\n",
       "        text-align: right;\n",
       "    }\n",
       "</style>\n",
       "<table border=\"1\" class=\"dataframe\">\n",
       "  <thead>\n",
       "    <tr style=\"text-align: right;\">\n",
       "      <th></th>\n",
       "      <th>duration</th>\n",
       "      <th>credit_amount</th>\n",
       "      <th>installment_rate</th>\n",
       "      <th>present_residence</th>\n",
       "      <th>age</th>\n",
       "      <th>number_credits_this_bank</th>\n",
       "    </tr>\n",
       "  </thead>\n",
       "  <tbody>\n",
       "    <tr>\n",
       "      <th>count</th>\n",
       "      <td>1000.000000</td>\n",
       "      <td>1000.000000</td>\n",
       "      <td>1000.000000</td>\n",
       "      <td>1000.000000</td>\n",
       "      <td>1000.000000</td>\n",
       "      <td>1000.000000</td>\n",
       "    </tr>\n",
       "    <tr>\n",
       "      <th>mean</th>\n",
       "      <td>20.903000</td>\n",
       "      <td>3271.258000</td>\n",
       "      <td>2.973000</td>\n",
       "      <td>2.845000</td>\n",
       "      <td>35.546000</td>\n",
       "      <td>1.407000</td>\n",
       "    </tr>\n",
       "    <tr>\n",
       "      <th>std</th>\n",
       "      <td>12.058814</td>\n",
       "      <td>2822.736876</td>\n",
       "      <td>1.118715</td>\n",
       "      <td>1.103718</td>\n",
       "      <td>11.375469</td>\n",
       "      <td>0.577654</td>\n",
       "    </tr>\n",
       "    <tr>\n",
       "      <th>min</th>\n",
       "      <td>4.000000</td>\n",
       "      <td>250.000000</td>\n",
       "      <td>1.000000</td>\n",
       "      <td>1.000000</td>\n",
       "      <td>19.000000</td>\n",
       "      <td>1.000000</td>\n",
       "    </tr>\n",
       "    <tr>\n",
       "      <th>25%</th>\n",
       "      <td>12.000000</td>\n",
       "      <td>1365.500000</td>\n",
       "      <td>2.000000</td>\n",
       "      <td>2.000000</td>\n",
       "      <td>27.000000</td>\n",
       "      <td>1.000000</td>\n",
       "    </tr>\n",
       "    <tr>\n",
       "      <th>50%</th>\n",
       "      <td>18.000000</td>\n",
       "      <td>2319.500000</td>\n",
       "      <td>3.000000</td>\n",
       "      <td>3.000000</td>\n",
       "      <td>33.000000</td>\n",
       "      <td>1.000000</td>\n",
       "    </tr>\n",
       "    <tr>\n",
       "      <th>75%</th>\n",
       "      <td>24.000000</td>\n",
       "      <td>3972.250000</td>\n",
       "      <td>4.000000</td>\n",
       "      <td>4.000000</td>\n",
       "      <td>42.000000</td>\n",
       "      <td>2.000000</td>\n",
       "    </tr>\n",
       "    <tr>\n",
       "      <th>max</th>\n",
       "      <td>72.000000</td>\n",
       "      <td>18424.000000</td>\n",
       "      <td>4.000000</td>\n",
       "      <td>4.000000</td>\n",
       "      <td>75.000000</td>\n",
       "      <td>4.000000</td>\n",
       "    </tr>\n",
       "  </tbody>\n",
       "</table>\n",
       "</div>"
      ],
      "text/plain": [
       "          duration  credit_amount  installment_rate  present_residence  \\\n",
       "count  1000.000000    1000.000000       1000.000000        1000.000000   \n",
       "mean     20.903000    3271.258000          2.973000           2.845000   \n",
       "std      12.058814    2822.736876          1.118715           1.103718   \n",
       "min       4.000000     250.000000          1.000000           1.000000   \n",
       "25%      12.000000    1365.500000          2.000000           2.000000   \n",
       "50%      18.000000    2319.500000          3.000000           3.000000   \n",
       "75%      24.000000    3972.250000          4.000000           4.000000   \n",
       "max      72.000000   18424.000000          4.000000           4.000000   \n",
       "\n",
       "               age  number_credits_this_bank  \n",
       "count  1000.000000               1000.000000  \n",
       "mean     35.546000                  1.407000  \n",
       "std      11.375469                  0.577654  \n",
       "min      19.000000                  1.000000  \n",
       "25%      27.000000                  1.000000  \n",
       "50%      33.000000                  1.000000  \n",
       "75%      42.000000                  2.000000  \n",
       "max      75.000000                  4.000000  "
      ]
     },
     "execution_count": 33,
     "metadata": {},
     "output_type": "execute_result"
    }
   ],
   "source": [
    "data_numerical = data[numerical_columns]\n",
    "data_numerical = data_numerical.drop(('class'), axis = 1)\n",
    "data_numerical.describe()"
   ]
  },
  {
   "cell_type": "code",
   "execution_count": 34,
   "metadata": {},
   "outputs": [],
   "source": [
    "data_numerical = (data_numerical - data_numerical.mean(axis = 0))/data_numerical.std(axis = 0)"
   ]
  },
  {
   "cell_type": "markdown",
   "metadata": {},
   "source": [
    "## Объединение в одну таблицу"
   ]
  },
  {
   "cell_type": "code",
   "execution_count": 35,
   "metadata": {},
   "outputs": [
    {
     "name": "stdout",
     "output_type": "stream",
     "text": [
      "(1000, 58)\n"
     ]
    }
   ],
   "source": [
    "data = pd.concat((data_numerical, data_nonbinary, data[binary_columns], data['class']), axis = 1)\n",
    "print(data.shape)"
   ]
  },
  {
   "cell_type": "code",
   "execution_count": 36,
   "metadata": {},
   "outputs": [
    {
     "data": {
      "text/html": [
       "<div>\n",
       "<style scoped>\n",
       "    .dataframe tbody tr th:only-of-type {\n",
       "        vertical-align: middle;\n",
       "    }\n",
       "\n",
       "    .dataframe tbody tr th {\n",
       "        vertical-align: top;\n",
       "    }\n",
       "\n",
       "    .dataframe thead th {\n",
       "        text-align: right;\n",
       "    }\n",
       "</style>\n",
       "<table border=\"1\" class=\"dataframe\">\n",
       "  <thead>\n",
       "    <tr style=\"text-align: right;\">\n",
       "      <th></th>\n",
       "      <th>duration</th>\n",
       "      <th>credit_amount</th>\n",
       "      <th>installment_rate</th>\n",
       "      <th>present_residence</th>\n",
       "      <th>age</th>\n",
       "      <th>number_credits_this_bank</th>\n",
       "      <th>status_account_A11</th>\n",
       "      <th>status_account_A12</th>\n",
       "      <th>status_account_A13</th>\n",
       "      <th>status_account_A14</th>\n",
       "      <th>...</th>\n",
       "      <th>other_plans_A143</th>\n",
       "      <th>housing_A151</th>\n",
       "      <th>housing_A152</th>\n",
       "      <th>housing_A153</th>\n",
       "      <th>job_A171</th>\n",
       "      <th>job_A172</th>\n",
       "      <th>job_A173</th>\n",
       "      <th>job_A174</th>\n",
       "      <th>foreign_worker</th>\n",
       "      <th>class</th>\n",
       "    </tr>\n",
       "  </thead>\n",
       "  <tbody>\n",
       "    <tr>\n",
       "      <th>count</th>\n",
       "      <td>1.000000e+03</td>\n",
       "      <td>1.000000e+03</td>\n",
       "      <td>1.000000e+03</td>\n",
       "      <td>1.000000e+03</td>\n",
       "      <td>1.000000e+03</td>\n",
       "      <td>1.000000e+03</td>\n",
       "      <td>1000.000000</td>\n",
       "      <td>1000.000000</td>\n",
       "      <td>1000.000000</td>\n",
       "      <td>1000.000000</td>\n",
       "      <td>...</td>\n",
       "      <td>1000.000000</td>\n",
       "      <td>1000.000000</td>\n",
       "      <td>1000.000000</td>\n",
       "      <td>1000.000000</td>\n",
       "      <td>1000.000000</td>\n",
       "      <td>1000.0000</td>\n",
       "      <td>1000.000000</td>\n",
       "      <td>1000.000000</td>\n",
       "      <td>1000.000000</td>\n",
       "      <td>1000.000000</td>\n",
       "    </tr>\n",
       "    <tr>\n",
       "      <th>mean</th>\n",
       "      <td>1.136868e-16</td>\n",
       "      <td>6.128431e-17</td>\n",
       "      <td>1.367795e-16</td>\n",
       "      <td>-1.438849e-16</td>\n",
       "      <td>4.973799e-17</td>\n",
       "      <td>3.552714e-18</td>\n",
       "      <td>0.274000</td>\n",
       "      <td>0.269000</td>\n",
       "      <td>0.063000</td>\n",
       "      <td>0.394000</td>\n",
       "      <td>...</td>\n",
       "      <td>0.814000</td>\n",
       "      <td>0.179000</td>\n",
       "      <td>0.713000</td>\n",
       "      <td>0.108000</td>\n",
       "      <td>0.022000</td>\n",
       "      <td>0.2000</td>\n",
       "      <td>0.630000</td>\n",
       "      <td>0.148000</td>\n",
       "      <td>0.963000</td>\n",
       "      <td>1.300000</td>\n",
       "    </tr>\n",
       "    <tr>\n",
       "      <th>std</th>\n",
       "      <td>1.000000e+00</td>\n",
       "      <td>1.000000e+00</td>\n",
       "      <td>1.000000e+00</td>\n",
       "      <td>1.000000e+00</td>\n",
       "      <td>1.000000e+00</td>\n",
       "      <td>1.000000e+00</td>\n",
       "      <td>0.446232</td>\n",
       "      <td>0.443662</td>\n",
       "      <td>0.243085</td>\n",
       "      <td>0.488879</td>\n",
       "      <td>...</td>\n",
       "      <td>0.389301</td>\n",
       "      <td>0.383544</td>\n",
       "      <td>0.452588</td>\n",
       "      <td>0.310536</td>\n",
       "      <td>0.146757</td>\n",
       "      <td>0.4002</td>\n",
       "      <td>0.483046</td>\n",
       "      <td>0.355278</td>\n",
       "      <td>0.188856</td>\n",
       "      <td>0.458487</td>\n",
       "    </tr>\n",
       "    <tr>\n",
       "      <th>min</th>\n",
       "      <td>-1.401713e+00</td>\n",
       "      <td>-1.070329e+00</td>\n",
       "      <td>-1.763631e+00</td>\n",
       "      <td>-1.671623e+00</td>\n",
       "      <td>-1.454533e+00</td>\n",
       "      <td>-7.045734e-01</td>\n",
       "      <td>0.000000</td>\n",
       "      <td>0.000000</td>\n",
       "      <td>0.000000</td>\n",
       "      <td>0.000000</td>\n",
       "      <td>...</td>\n",
       "      <td>0.000000</td>\n",
       "      <td>0.000000</td>\n",
       "      <td>0.000000</td>\n",
       "      <td>0.000000</td>\n",
       "      <td>0.000000</td>\n",
       "      <td>0.0000</td>\n",
       "      <td>0.000000</td>\n",
       "      <td>0.000000</td>\n",
       "      <td>0.000000</td>\n",
       "      <td>1.000000</td>\n",
       "    </tr>\n",
       "    <tr>\n",
       "      <th>25%</th>\n",
       "      <td>-7.382981e-01</td>\n",
       "      <td>-6.751455e-01</td>\n",
       "      <td>-8.697481e-01</td>\n",
       "      <td>-7.655942e-01</td>\n",
       "      <td>-7.512658e-01</td>\n",
       "      <td>-7.045734e-01</td>\n",
       "      <td>0.000000</td>\n",
       "      <td>0.000000</td>\n",
       "      <td>0.000000</td>\n",
       "      <td>0.000000</td>\n",
       "      <td>...</td>\n",
       "      <td>1.000000</td>\n",
       "      <td>0.000000</td>\n",
       "      <td>0.000000</td>\n",
       "      <td>0.000000</td>\n",
       "      <td>0.000000</td>\n",
       "      <td>0.0000</td>\n",
       "      <td>0.000000</td>\n",
       "      <td>0.000000</td>\n",
       "      <td>1.000000</td>\n",
       "      <td>1.000000</td>\n",
       "    </tr>\n",
       "    <tr>\n",
       "      <th>50%</th>\n",
       "      <td>-2.407368e-01</td>\n",
       "      <td>-3.371756e-01</td>\n",
       "      <td>2.413484e-02</td>\n",
       "      <td>1.404344e-01</td>\n",
       "      <td>-2.238150e-01</td>\n",
       "      <td>-7.045734e-01</td>\n",
       "      <td>0.000000</td>\n",
       "      <td>0.000000</td>\n",
       "      <td>0.000000</td>\n",
       "      <td>0.000000</td>\n",
       "      <td>...</td>\n",
       "      <td>1.000000</td>\n",
       "      <td>0.000000</td>\n",
       "      <td>1.000000</td>\n",
       "      <td>0.000000</td>\n",
       "      <td>0.000000</td>\n",
       "      <td>0.0000</td>\n",
       "      <td>1.000000</td>\n",
       "      <td>0.000000</td>\n",
       "      <td>1.000000</td>\n",
       "      <td>1.000000</td>\n",
       "    </tr>\n",
       "    <tr>\n",
       "      <th>75%</th>\n",
       "      <td>2.568246e-01</td>\n",
       "      <td>2.483377e-01</td>\n",
       "      <td>9.180178e-01</td>\n",
       "      <td>1.046463e+00</td>\n",
       "      <td>5.673612e-01</td>\n",
       "      <td>1.026565e+00</td>\n",
       "      <td>1.000000</td>\n",
       "      <td>1.000000</td>\n",
       "      <td>0.000000</td>\n",
       "      <td>1.000000</td>\n",
       "      <td>...</td>\n",
       "      <td>1.000000</td>\n",
       "      <td>0.000000</td>\n",
       "      <td>1.000000</td>\n",
       "      <td>0.000000</td>\n",
       "      <td>0.000000</td>\n",
       "      <td>0.0000</td>\n",
       "      <td>1.000000</td>\n",
       "      <td>0.000000</td>\n",
       "      <td>1.000000</td>\n",
       "      <td>2.000000</td>\n",
       "    </tr>\n",
       "    <tr>\n",
       "      <th>max</th>\n",
       "      <td>4.237315e+00</td>\n",
       "      <td>5.368103e+00</td>\n",
       "      <td>9.180178e-01</td>\n",
       "      <td>1.046463e+00</td>\n",
       "      <td>3.468341e+00</td>\n",
       "      <td>4.488843e+00</td>\n",
       "      <td>1.000000</td>\n",
       "      <td>1.000000</td>\n",
       "      <td>1.000000</td>\n",
       "      <td>1.000000</td>\n",
       "      <td>...</td>\n",
       "      <td>1.000000</td>\n",
       "      <td>1.000000</td>\n",
       "      <td>1.000000</td>\n",
       "      <td>1.000000</td>\n",
       "      <td>1.000000</td>\n",
       "      <td>1.0000</td>\n",
       "      <td>1.000000</td>\n",
       "      <td>1.000000</td>\n",
       "      <td>1.000000</td>\n",
       "      <td>2.000000</td>\n",
       "    </tr>\n",
       "  </tbody>\n",
       "</table>\n",
       "<p>8 rows × 58 columns</p>\n",
       "</div>"
      ],
      "text/plain": [
       "           duration  credit_amount  installment_rate  present_residence  \\\n",
       "count  1.000000e+03   1.000000e+03      1.000000e+03       1.000000e+03   \n",
       "mean   1.136868e-16   6.128431e-17      1.367795e-16      -1.438849e-16   \n",
       "std    1.000000e+00   1.000000e+00      1.000000e+00       1.000000e+00   \n",
       "min   -1.401713e+00  -1.070329e+00     -1.763631e+00      -1.671623e+00   \n",
       "25%   -7.382981e-01  -6.751455e-01     -8.697481e-01      -7.655942e-01   \n",
       "50%   -2.407368e-01  -3.371756e-01      2.413484e-02       1.404344e-01   \n",
       "75%    2.568246e-01   2.483377e-01      9.180178e-01       1.046463e+00   \n",
       "max    4.237315e+00   5.368103e+00      9.180178e-01       1.046463e+00   \n",
       "\n",
       "                age  number_credits_this_bank  status_account_A11  \\\n",
       "count  1.000000e+03              1.000000e+03         1000.000000   \n",
       "mean   4.973799e-17              3.552714e-18            0.274000   \n",
       "std    1.000000e+00              1.000000e+00            0.446232   \n",
       "min   -1.454533e+00             -7.045734e-01            0.000000   \n",
       "25%   -7.512658e-01             -7.045734e-01            0.000000   \n",
       "50%   -2.238150e-01             -7.045734e-01            0.000000   \n",
       "75%    5.673612e-01              1.026565e+00            1.000000   \n",
       "max    3.468341e+00              4.488843e+00            1.000000   \n",
       "\n",
       "       status_account_A12  status_account_A13  status_account_A14  \\\n",
       "count         1000.000000         1000.000000         1000.000000   \n",
       "mean             0.269000            0.063000            0.394000   \n",
       "std              0.443662            0.243085            0.488879   \n",
       "min              0.000000            0.000000            0.000000   \n",
       "25%              0.000000            0.000000            0.000000   \n",
       "50%              0.000000            0.000000            0.000000   \n",
       "75%              1.000000            0.000000            1.000000   \n",
       "max              1.000000            1.000000            1.000000   \n",
       "\n",
       "          ...       other_plans_A143  housing_A151  housing_A152  \\\n",
       "count     ...            1000.000000   1000.000000   1000.000000   \n",
       "mean      ...               0.814000      0.179000      0.713000   \n",
       "std       ...               0.389301      0.383544      0.452588   \n",
       "min       ...               0.000000      0.000000      0.000000   \n",
       "25%       ...               1.000000      0.000000      0.000000   \n",
       "50%       ...               1.000000      0.000000      1.000000   \n",
       "75%       ...               1.000000      0.000000      1.000000   \n",
       "max       ...               1.000000      1.000000      1.000000   \n",
       "\n",
       "       housing_A153     job_A171   job_A172     job_A173     job_A174  \\\n",
       "count   1000.000000  1000.000000  1000.0000  1000.000000  1000.000000   \n",
       "mean       0.108000     0.022000     0.2000     0.630000     0.148000   \n",
       "std        0.310536     0.146757     0.4002     0.483046     0.355278   \n",
       "min        0.000000     0.000000     0.0000     0.000000     0.000000   \n",
       "25%        0.000000     0.000000     0.0000     0.000000     0.000000   \n",
       "50%        0.000000     0.000000     0.0000     1.000000     0.000000   \n",
       "75%        0.000000     0.000000     0.0000     1.000000     0.000000   \n",
       "max        1.000000     1.000000     1.0000     1.000000     1.000000   \n",
       "\n",
       "       foreign_worker        class  \n",
       "count     1000.000000  1000.000000  \n",
       "mean         0.963000     1.300000  \n",
       "std          0.188856     0.458487  \n",
       "min          0.000000     1.000000  \n",
       "25%          1.000000     1.000000  \n",
       "50%          1.000000     1.000000  \n",
       "75%          1.000000     2.000000  \n",
       "max          1.000000     2.000000  \n",
       "\n",
       "[8 rows x 58 columns]"
      ]
     },
     "execution_count": 36,
     "metadata": {},
     "output_type": "execute_result"
    }
   ],
   "source": [
    "data.describe()"
   ]
  },
  {
   "cell_type": "markdown",
   "metadata": {},
   "source": [
    "### X и Y"
   ]
  },
  {
   "cell_type": "code",
   "execution_count": 37,
   "metadata": {},
   "outputs": [],
   "source": [
    "X = data.drop(('class'), axis = 1) # выбрасываем столбец 'class'\n",
    "y = data['class']\n",
    "feature_names = X.columns"
   ]
  },
  {
   "cell_type": "code",
   "execution_count": 38,
   "metadata": {},
   "outputs": [
    {
     "data": {
      "text/plain": [
       "pandas.core.indexes.base.Index"
      ]
     },
     "execution_count": 38,
     "metadata": {},
     "output_type": "execute_result"
    }
   ],
   "source": [
    "type(feature_names)"
   ]
  },
  {
   "cell_type": "code",
   "execution_count": 39,
   "metadata": {},
   "outputs": [
    {
     "data": {
      "text/plain": [
       "Index(['duration', 'credit_amount', 'installment_rate', 'present_residence',\n",
       "       'age', 'number_credits_this_bank', 'status_account_A11',\n",
       "       'status_account_A12', 'status_account_A13', 'status_account_A14',\n",
       "       'credit_history_A30', 'credit_history_A31', 'credit_history_A32',\n",
       "       'credit_history_A33', 'credit_history_A34', 'purpose_A40',\n",
       "       'purpose_A41', 'purpose_A410', 'purpose_A42', 'purpose_A43',\n",
       "       'purpose_A44', 'purpose_A45', 'purpose_A46', 'purpose_A48',\n",
       "       'purpose_A49', 'savings_account_A61', 'savings_account_A62',\n",
       "       'savings_account_A63', 'savings_account_A64', 'savings_account_A65',\n",
       "       'employment_A71', 'employment_A72', 'employment_A73', 'employment_A74',\n",
       "       'employment_A75', 'sex_status_A91', 'sex_status_A92', 'sex_status_A93',\n",
       "       'sex_status_A94', 'other_debtors_A101', 'other_debtors_A102',\n",
       "       'other_debtors_A103', 'property_A121', 'property_A122', 'property_A123',\n",
       "       'property_A124', 'other_plans_A141', 'other_plans_A142',\n",
       "       'other_plans_A143', 'housing_A151', 'housing_A152', 'housing_A153',\n",
       "       'job_A171', 'job_A172', 'job_A173', 'job_A174', 'foreign_worker'],\n",
       "      dtype='object')"
      ]
     },
     "execution_count": 39,
     "metadata": {},
     "output_type": "execute_result"
    }
   ],
   "source": [
    "feature_names"
   ]
  },
  {
   "cell_type": "code",
   "execution_count": 40,
   "metadata": {},
   "outputs": [
    {
     "name": "stdout",
     "output_type": "stream",
     "text": [
      "(1000, 57)\n",
      "(1000,)\n"
     ]
    }
   ],
   "source": [
    "print(X.shape)\n",
    "print(y.shape)\n",
    "N, d = X.shape"
   ]
  },
  {
   "cell_type": "code",
   "execution_count": 41,
   "metadata": {},
   "outputs": [
    {
     "name": "stdout",
     "output_type": "stream",
     "text": [
      "<class 'pandas.core.frame.DataFrame'>\n",
      "<class 'pandas.core.series.Series'>\n"
     ]
    }
   ],
   "source": [
    "print(type(X))\n",
    "print(type(y))"
   ]
  },
  {
   "cell_type": "code",
   "execution_count": 42,
   "metadata": {},
   "outputs": [
    {
     "name": "stdout",
     "output_type": "stream",
     "text": [
      "700 300\n"
     ]
    }
   ],
   "source": [
    "# Деление датасета на тренировочную и тестовую выборку в отношении 7:3\n",
    "from sklearn.model_selection import train_test_split\n",
    "X_train, X_test, y_train, y_test = train_test_split(X, y, test_size = 0.3, random_state = 42)\n",
    "\n",
    "N_train, _ = X_train.shape \n",
    "N_test,  _ = X_test.shape \n",
    "\n",
    "print(N_train, N_test)"
   ]
  },
  {
   "cell_type": "markdown",
   "metadata": {},
   "source": [
    "# $k$NN"
   ]
  },
  {
   "cell_type": "code",
   "execution_count": 43,
   "metadata": {},
   "outputs": [
    {
     "data": {
      "text/plain": [
       "KNeighborsClassifier(algorithm='auto', leaf_size=30, metric='minkowski',\n",
       "           metric_params=None, n_jobs=None, n_neighbors=10, p=2,\n",
       "           weights='uniform')"
      ]
     },
     "execution_count": 43,
     "metadata": {},
     "output_type": "execute_result"
    }
   ],
   "source": [
    "# Метод к-ближайших соседей\n",
    "from sklearn.neighbors import KNeighborsClassifier\n",
    "\n",
    "knn = KNeighborsClassifier(n_neighbors = 10)\n",
    "knn.fit(X_train, y_train)"
   ]
  },
  {
   "cell_type": "code",
   "execution_count": 44,
   "metadata": {},
   "outputs": [
    {
     "name": "stdout",
     "output_type": "stream",
     "text": [
      "0.22285714285714286 0.26\n"
     ]
    }
   ],
   "source": [
    "y_train_predict = knn.predict(X_train)\n",
    "y_test_predict = knn.predict(X_test)\n",
    "\n",
    "err_train = np.mean(y_train != y_train_predict)\n",
    "err_test  = np.mean(y_test  != y_test_predict)\n",
    "\n",
    "print(err_train, err_test)"
   ]
  },
  {
   "cell_type": "code",
   "execution_count": 45,
   "metadata": {},
   "outputs": [
    {
     "data": {
      "text/plain": [
       "0.26"
      ]
     },
     "execution_count": 45,
     "metadata": {},
     "output_type": "execute_result"
    }
   ],
   "source": [
    "err_test = 1 - knn.score(X_test, y_test)\n",
    "err_test"
   ]
  },
  {
   "cell_type": "code",
   "execution_count": 46,
   "metadata": {},
   "outputs": [],
   "source": [
    "def print_confusion_matrix(conf_mat):\n",
    "    print(\"TP = {0}\\nFP = {1}\\nFN = {2}\\nTN = {3}\".format(conf_mat[0][0], conf_mat[1][0], conf_mat[0][1], conf_mat[1][1]))"
   ]
  },
  {
   "cell_type": "code",
   "execution_count": 47,
   "metadata": {},
   "outputs": [
    {
     "name": "stdout",
     "output_type": "stream",
     "text": [
      "TP = 201\n",
      "FP = 70\n",
      "FN = 8\n",
      "TN = 21\n"
     ]
    }
   ],
   "source": [
    "from sklearn.metrics import confusion_matrix\n",
    "print_confusion_matrix(confusion_matrix(y_test, y_test_predict))"
   ]
  },
  {
   "cell_type": "markdown",
   "metadata": {},
   "source": [
    "Меньшая ошибка достигается при удалении двух признаков"
   ]
  },
  {
   "cell_type": "markdown",
   "metadata": {},
   "source": [
    "| Признаки                                                           |      err_train      |      err_test      | \n",
    "|------------------------------------------------------------------ |:-------------------:|:------------------:|\n",
    "| All                                                               |   0.23142857        |      0.283         |  \n",
    "| without 'number_people_maintenance', 'telephone'                  |   0.22285714        |      0.26          |"
   ]
  },
  {
   "cell_type": "markdown",
   "metadata": {},
   "source": [
    "## Подбор параметров"
   ]
  },
  {
   "cell_type": "code",
   "execution_count": 48,
   "metadata": {},
   "outputs": [
    {
     "name": "stdout",
     "output_type": "stream",
     "text": [
      "0.2528571428571429 15\n"
     ]
    }
   ],
   "source": [
    "from sklearn.model_selection import GridSearchCV\n",
    "nnb = [1, 3, 5, 8, 10, 14, 15, 20, 25, 35, 45]\n",
    "knn = KNeighborsClassifier()\n",
    "grid = GridSearchCV(knn, param_grid = {'n_neighbors': nnb}, cv=10)\n",
    "grid.fit(X_train, y_train)\n",
    "\n",
    "best_cv_err = 1 - grid.best_score_\n",
    "best_n_neighbors = grid.best_estimator_.n_neighbors\n",
    "print(best_cv_err, best_n_neighbors)"
   ]
  },
  {
   "cell_type": "code",
   "execution_count": 49,
   "metadata": {},
   "outputs": [
    {
     "name": "stdout",
     "output_type": "stream",
     "text": [
      "0.22714285714285715 0.26\n",
      "TP = 200\n",
      "FP = 69\n",
      "FN = 9\n",
      "TN = 22\n"
     ]
    }
   ],
   "source": [
    "knn = KNeighborsClassifier(n_neighbors = best_n_neighbors).fit(X_train, y_train)\n",
    "\n",
    "y_test_predict = knn.predict(X_test)\n",
    "\n",
    "err_train = np.mean(y_train != knn.predict(X_train))\n",
    "err_test  = np.mean(y_test  != knn.predict(X_test))\n",
    "\n",
    "print(err_train, err_test)\n",
    "print_confusion_matrix(confusion_matrix(y_test, y_test_predict))"
   ]
  },
  {
   "cell_type": "markdown",
   "metadata": {},
   "source": [
    "#### Определилось, что наилучшим числом соседей для алгоритма $k$NN является 15. При этом ошибка на тестовом наборе данных составляет 26% и ошибка второго рода: 9 из 300"
   ]
  },
  {
   "cell_type": "markdown",
   "metadata": {},
   "source": [
    "# SVC"
   ]
  },
  {
   "cell_type": "code",
   "execution_count": 50,
   "metadata": {},
   "outputs": [
    {
     "name": "stdout",
     "output_type": "stream",
     "text": [
      "0.23285714285714285 0.24666666666666667\n",
      "TP = 205\n",
      "FP = 70\n",
      "FN = 4\n",
      "TN = 21\n"
     ]
    },
    {
     "name": "stderr",
     "output_type": "stream",
     "text": [
      "/usr/local/lib/python3.7/site-packages/sklearn/svm/base.py:196: FutureWarning: The default value of gamma will change from 'auto' to 'scale' in version 0.22 to account better for unscaled features. Set gamma explicitly to 'auto' or 'scale' to avoid this warning.\n",
      "  \"avoid this warning.\", FutureWarning)\n"
     ]
    }
   ],
   "source": [
    "# Support Vector Classification\n",
    "from sklearn.svm import SVC\n",
    "svc = SVC()\n",
    "svc.fit(X_train, y_train)\n",
    "\n",
    "y_test_predict = svc.predict(X_test)\n",
    "\n",
    "err_train = np.mean(y_train != svc.predict(X_train))\n",
    "err_test  = np.mean(y_test  != svc.predict(X_test))\n",
    "\n",
    "print(err_train, err_test)\n",
    "print_confusion_matrix(confusion_matrix(y_test, y_test_predict))"
   ]
  },
  {
   "cell_type": "markdown",
   "metadata": {},
   "source": [
    "## Подбор параметров"
   ]
  },
  {
   "cell_type": "code",
   "execution_count": 51,
   "metadata": {},
   "outputs": [
    {
     "name": "stderr",
     "output_type": "stream",
     "text": [
      "/usr/local/lib/python3.7/site-packages/sklearn/model_selection/_split.py:1943: FutureWarning: You should specify a value for 'cv' instead of relying on the default value. The default value will change from 3 to 5 in version 0.22.\n",
      "  warnings.warn(CV_WARNING, FutureWarning)\n"
     ]
    },
    {
     "name": "stdout",
     "output_type": "stream",
     "text": [
      "0.24857142857142855 1.0\n"
     ]
    },
    {
     "name": "stderr",
     "output_type": "stream",
     "text": [
      "/usr/local/lib/python3.7/site-packages/sklearn/model_selection/_search.py:841: DeprecationWarning: The default of the `iid` parameter will change from True to False in version 0.22 and will be removed in 0.24. This will change numeric results when test-set sizes are unequal.\n",
      "  DeprecationWarning)\n"
     ]
    }
   ],
   "source": [
    "from sklearn.model_selection import GridSearchCV\n",
    "# Penalty parameter C of the error term\n",
    "Cs = 10.**np.arange(-10, 10)\n",
    "# Kernel coefficient for ‘rbf’, ‘poly’ and ‘sigmoid’\n",
    "gamma_array = 10.**np.arange(-10, 10)\n",
    "svc = SVC()\n",
    "grid = GridSearchCV(svc, param_grid = {'C': Cs, 'gamma': gamma_array})\n",
    "grid.fit(X_train, y_train)\n",
    "\n",
    "best_cv_err = 1 - grid.best_score_\n",
    "best_C = grid.best_estimator_.C\n",
    "print(best_cv_err, best_C)"
   ]
  },
  {
   "cell_type": "code",
   "execution_count": 52,
   "metadata": {},
   "outputs": [
    {
     "name": "stdout",
     "output_type": "stream",
     "text": [
      "0.22714285714285715 0.26\n",
      "TP = 205\n",
      "FP = 70\n",
      "FN = 4\n",
      "TN = 21\n"
     ]
    },
    {
     "name": "stderr",
     "output_type": "stream",
     "text": [
      "/usr/local/lib/python3.7/site-packages/sklearn/svm/base.py:196: FutureWarning: The default value of gamma will change from 'auto' to 'scale' in version 0.22 to account better for unscaled features. Set gamma explicitly to 'auto' or 'scale' to avoid this warning.\n",
      "  \"avoid this warning.\", FutureWarning)\n"
     ]
    }
   ],
   "source": [
    "svc = SVC(C = best_C).fit(X_train, y_train)\n",
    "\n",
    "y_test_predict = svc.predict(X_test)\n",
    "\n",
    "err_train = np.mean(y_train != knn.predict(X_train))\n",
    "err_test  = np.mean(y_test  != knn.predict(X_test))\n",
    "\n",
    "print(err_train, err_test)\n",
    "print_confusion_matrix(confusion_matrix(y_test, y_test_predict))"
   ]
  },
  {
   "cell_type": "markdown",
   "metadata": {},
   "source": [
    "#### Определилось, что наилучшим значением параметра для определеня ошибки алгоритма SVC является 1.0. При этом ошибка на тестовом наборе данных составляет 26% и ошибка второго рода меньше, чем для $k$NN (4  из 300)"
   ]
  },
  {
   "cell_type": "markdown",
   "metadata": {},
   "source": [
    "# Random Forest"
   ]
  },
  {
   "cell_type": "code",
   "execution_count": 53,
   "metadata": {},
   "outputs": [
    {
     "name": "stdout",
     "output_type": "stream",
     "text": [
      "0.0 0.24\n",
      "TP = 194\n",
      "FP = 57\n",
      "FN = 15\n",
      "TN = 34\n"
     ]
    }
   ],
   "source": [
    "from sklearn import ensemble\n",
    "rf = ensemble.RandomForestClassifier(n_estimators = 1000)\n",
    "rf.fit(X_train, y_train)\n",
    "\n",
    "y_test_predict = rf.predict(X_test)\n",
    "\n",
    "err_train = np.mean(y_train != rf.predict(X_train))\n",
    "err_test  = np.mean(y_test  != rf.predict(X_test))\n",
    "\n",
    "print(err_train, err_test)\n",
    "print_confusion_matrix(confusion_matrix(y_test, y_test_predict))"
   ]
  },
  {
   "cell_type": "markdown",
   "metadata": {},
   "source": [
    "#### Большая разница между ошибкой на тренировачном и тестовом наборе данных -> переобучение. При этом высока ошибка второго рода (15 из 300)"
   ]
  },
  {
   "cell_type": "markdown",
   "metadata": {},
   "source": [
    "## Значимость признаков"
   ]
  },
  {
   "cell_type": "code",
   "execution_count": 54,
   "metadata": {},
   "outputs": [
    {
     "data": {
      "text/plain": [
       "1.0"
      ]
     },
     "execution_count": 54,
     "metadata": {},
     "output_type": "execute_result"
    }
   ],
   "source": [
    "np.sum(rf.feature_importances_)"
   ]
  },
  {
   "cell_type": "code",
   "execution_count": 55,
   "metadata": {},
   "outputs": [
    {
     "name": "stdout",
     "output_type": "stream",
     "text": [
      "Features ranking:\n",
      " 1. feature 'credit_amount' (0.103689)\n",
      " 2. feature '  age' (0.087437)\n",
      " 3. feature 'duration' (0.078681)\n",
      " 4. feature 'status_account_A14' (0.045152)\n",
      " 5. feature 'installment_rate' (0.036920)\n",
      " 6. feature 'present_residence' (0.034681)\n",
      " 7. feature 'status_account_A11' (0.034481)\n",
      " 8. feature 'credit_history_A34' (0.026128)\n",
      " 9. feature 'purpose_A40' (0.022337)\n",
      "10. feature 'number_credits_this_bank' (0.020050)\n",
      "11. feature 'savings_account_A61' (0.019660)\n",
      "12. feature 'status_account_A12' (0.018552)\n",
      "13. feature 'property_A121' (0.016199)\n",
      "14. feature 'housing_A152' (0.015925)\n",
      "15. feature 'purpose_A43' (0.015711)\n",
      "16. feature 'sex_status_A93' (0.015557)\n",
      "17. feature 'property_A123' (0.015503)\n",
      "18. feature 'employment_A72' (0.015394)\n",
      "19. feature 'employment_A73' (0.015338)\n",
      "20. feature 'sex_status_A92' (0.015328)\n",
      "21. feature 'job_A173' (0.015316)\n",
      "22. feature 'other_plans_A143' (0.015128)\n",
      "23. feature 'credit_history_A32' (0.015030)\n",
      "24. feature 'credit_history_A30' (0.014616)\n",
      "25. feature 'purpose_A42' (0.013694)\n",
      "26. feature 'other_plans_A141' (0.013251)\n",
      "27. feature 'savings_account_A65' (0.013080)\n",
      "28. feature 'employment_A75' (0.012900)\n",
      "29. feature 'property_A122' (0.012779)\n",
      "30. feature 'job_A174' (0.012462)\n",
      "31. feature 'employment_A74' (0.012393)\n",
      "32. feature 'property_A124' (0.012254)\n",
      "33. feature 'job_A172' (0.012166)\n",
      "34. feature 'purpose_A49' (0.011938)\n",
      "35. feature 'employment_A71' (0.011216)\n",
      "36. feature 'housing_A151' (0.010952)\n",
      "37. feature 'credit_history_A31' (0.010889)\n",
      "38. feature 'other_debtors_A101' (0.010327)\n",
      "39. feature 'purpose_A46' (0.009987)\n",
      "40. feature 'credit_history_A33' (0.009393)\n",
      "41. feature 'housing_A153' (0.008806)\n",
      "42. feature 'savings_account_A62' (0.008794)\n",
      "43. feature 'sex_status_A94' (0.008431)\n",
      "44. feature 'status_account_A13' (0.008293)\n",
      "45. feature 'purpose_A41' (0.007695)\n",
      "46. feature 'other_debtors_A103' (0.007521)\n",
      "47. feature 'savings_account_A63' (0.007117)\n",
      "48. feature 'sex_status_A91' (0.006213)\n",
      "49. feature 'other_debtors_A102' (0.006099)\n",
      "50. feature 'savings_account_A64' (0.005471)\n",
      "51. feature 'other_plans_A142' (0.005460)\n",
      "52. feature 'purpose_A45' (0.004866)\n",
      "53. feature 'foreign_worker' (0.003747)\n",
      "54. feature 'purpose_A44' (0.002901)\n",
      "55. feature 'job_A171' (0.002502)\n",
      "56. feature 'purpose_A410' (0.002412)\n",
      "57. feature 'purpose_A48' (0.001179)\n"
     ]
    }
   ],
   "source": [
    "importances = rf.feature_importances_\n",
    "indices = np.argsort(importances)[::-1]\n",
    "\n",
    "print(\"Features ranking:\")\n",
    "\n",
    "for f in range(d):\n",
    "    print(\"%2d. feature '%5s' (%f)\" % (f + 1, feature_names[indices[f]], importances[indices[f]]))"
   ]
  },
  {
   "cell_type": "code",
   "execution_count": 56,
   "metadata": {},
   "outputs": [
    {
     "data": {
      "text/plain": [
       "Index(['credit_amount', 'duration', 'credit_amount'], dtype='object')"
      ]
     },
     "execution_count": 56,
     "metadata": {},
     "output_type": "execute_result"
    }
   ],
   "source": [
    "feature_names[[1,0,1]]"
   ]
  },
  {
   "cell_type": "code",
   "execution_count": 57,
   "metadata": {},
   "outputs": [
    {
     "data": {
      "text/plain": [
       "(-1, 35)"
      ]
     },
     "execution_count": 57,
     "metadata": {},
     "output_type": "execute_result"
    },
    {
     "data": {
      "image/png": "[encoded data removed]",
      "text/plain": [
       "<Figure size 432x288 with 1 Axes>"
      ]
     },
     "metadata": {
      "needs_background": "light"
     },
     "output_type": "display_data"
    }
   ],
   "source": [
    "d_first = 35\n",
    "plt.title(\"Feature importances\")\n",
    "plt.bar(range(d_first), importances[indices[:d_first]], align = 'center', color = 'r')\n",
    "plt.xticks(range(d_first), feature_names[indices[:d_first]], rotation = 90)\n",
    "plt.xlim([-1, d_first])"
   ]
  },
  {
   "cell_type": "markdown",
   "metadata": {},
   "source": [
    "# Extremely Randomized Trees"
   ]
  },
  {
   "cell_type": "code",
   "execution_count": 58,
   "metadata": {},
   "outputs": [
    {
     "name": "stdout",
     "output_type": "stream",
     "text": [
      "0.0 0.2633333333333333\n",
      "TP = 185\n",
      "FP = 55\n",
      "FN = 24\n",
      "TN = 36\n"
     ]
    }
   ],
   "source": [
    "ert = ensemble.ExtraTreesClassifier(n_estimators = 100).fit(X_train, y_train)\n",
    "\n",
    "y_test_predict = ert.predict(X_test)\n",
    "\n",
    "err_train = np.mean(y_train != ert.predict(X_train))\n",
    "err_test  = np.mean(y_test  != ert.predict(X_test))\n",
    "\n",
    "print(err_train, err_test)\n",
    "print_confusion_matrix(confusion_matrix(y_test, y_test_predict))"
   ]
  },
  {
   "cell_type": "markdown",
   "metadata": {},
   "source": [
    "#### Большая разница между ошибкой на тренировачном и тестовом наборе данных -> переобучение. При этом высока ошибка второго рода (24 из 300)"
   ]
  },
  {
   "cell_type": "markdown",
   "metadata": {},
   "source": [
    "# AdaBoost"
   ]
  },
  {
   "cell_type": "code",
   "execution_count": 59,
   "metadata": {},
   "outputs": [
    {
     "name": "stdout",
     "output_type": "stream",
     "text": [
      "0.12 0.29333333333333333\n",
      "TP = 179\n",
      "FP = 58\n",
      "FN = 30\n",
      "TN = 33\n"
     ]
    }
   ],
   "source": [
    "# Adaptive Boosting\n",
    "ada = ensemble.AdaBoostClassifier(n_estimators = 1000)\n",
    "ada.fit(X_train, y_train)\n",
    "\n",
    "y_test_predict = ada.predict(X_test)\n",
    "\n",
    "err_train = np.mean(y_train != ada.predict(X_train))\n",
    "err_test = np.mean(y_test != ada.predict(X_test))\n",
    "\n",
    "print(err_train, err_test)\n",
    "print_confusion_matrix(confusion_matrix(y_test, y_test_predict))"
   ]
  },
  {
   "cell_type": "markdown",
   "metadata": {},
   "source": [
    "#### Ошибка на тестовом наборе данных составляет 29% и ошибка второго рода велика (30  из 300)"
   ]
  },
  {
   "cell_type": "markdown",
   "metadata": {},
   "source": [
    "# GBT"
   ]
  },
  {
   "cell_type": "code",
   "execution_count": 60,
   "metadata": {},
   "outputs": [
    {
     "name": "stdout",
     "output_type": "stream",
     "text": [
      "0.0 0.24\n",
      "TP = 182\n",
      "FP = 45\n",
      "FN = 27\n",
      "TN = 46\n"
     ]
    }
   ],
   "source": [
    "# Gradient-Boosted Trees\n",
    "gbt = ensemble.GradientBoostingClassifier(n_estimators = 1000)\n",
    "gbt.fit(X_train, y_train)\n",
    "\n",
    "y_test_predict = gbt.predict(X_test)\n",
    "\n",
    "err_train = np.mean(y_train != gbt.predict(X_train))\n",
    "err_test = np.mean(y_test != gbt.predict(X_test))\n",
    "\n",
    "print(err_train, err_test)\n",
    "print_confusion_matrix(confusion_matrix(y_test, y_test_predict))"
   ]
  },
  {
   "cell_type": "markdown",
   "metadata": {},
   "source": [
    "#### Большая разница между ошибкой на тренировачном и тестовом наборе данных -> переобучение. При этом высока ошибка второго рода (27 из 300)"
   ]
  },
  {
   "cell_type": "markdown",
   "metadata": {},
   "source": [
    "# Вывод"
   ]
  },
  {
   "cell_type": "markdown",
   "metadata": {},
   "source": [
    "| algorithm                      |      err_train      |       err_test      | false_positive | false_negative |\n",
    "|--------------------------------|:-------------------:|:-------------------:|:--------------:|:--------------:|\n",
    "| 𝑘NN                            |      0.222857       |         0.26        |       70       |        8       |\n",
    "| 𝑘NN (with parameter selection) |      0.227143       |         0.26        |       69       |        9       |\n",
    "| SVC                            |      0.232857       |       0.246667      |       70       |        4       |\n",
    "| SVC (with parameter selection) |      0.227143       |         0.26        |       70       |        4       |\n",
    "| Random Forest                  |         0.0         |         0.24        |       57       |       15       |\n",
    "| Extremely Randomized Trees     |         0.0         |       0.263333      |       55       |       24       |\n",
    "| AdaBoost                       |         0.12        |       0.293333      |       58       |       30       |\n",
    "| GBT                            |         0.0         |         0.24        |       45       |       27       |"
   ]
  },
  {
   "cell_type": "markdown",
   "metadata": {},
   "source": [
    "###  *Таким образом, минимальная ошибка алгоритмов на тестовой выборке составляет 24%.  Оптимальные результаты продемонстрировал алгоритм SVC: ошибка = 26%, но при этом ошибка второго рода достаточно мала (только в 4 случаях человек с \"плохим\" кредитным риском был определен как \"хороший\")*"
   ]
  },
  {
   "cell_type": "markdown",
   "metadata": {},
   "source": [
    "# Лабораторная работа №2"
   ]
  },
  {
   "cell_type": "markdown",
   "metadata": {},
   "source": [
    "## Обучение классификатора"
   ]
  },
  {
   "cell_type": "code",
   "execution_count": 61,
   "metadata": {},
   "outputs": [],
   "source": [
    "from sklearn.neural_network import MLPClassifier\n",
    "from sklearn.metrics import classification_report"
   ]
  },
  {
   "cell_type": "code",
   "execution_count": 62,
   "metadata": {},
   "outputs": [
    {
     "data": {
      "text/plain": [
       "MLPClassifier(activation='logistic', alpha=0.0001, batch_size='auto',\n",
       "       beta_1=0.9, beta_2=0.999, early_stopping=False, epsilon=1e-08,\n",
       "       hidden_layer_sizes=(100,), learning_rate='constant',\n",
       "       learning_rate_init=0.001, max_iter=200, momentum=0.9,\n",
       "       n_iter_no_change=10, nesterovs_momentum=True, power_t=0.5,\n",
       "       random_state=42, shuffle=True, solver='lbfgs', tol=0.0001,\n",
       "       validation_fraction=0.1, verbose=False, warm_start=False)"
      ]
     },
     "execution_count": 62,
     "metadata": {},
     "output_type": "execute_result"
    }
   ],
   "source": [
    "mlp_model = MLPClassifier(hidden_layer_sizes = (100,), solver = 'lbfgs', \n",
    "                          activation = 'logistic', random_state = 42)\n",
    "mlp_model.fit(X_train, y_train)"
   ]
  },
  {
   "cell_type": "markdown",
   "metadata": {},
   "source": [
    "## Проверка качества классификатора"
   ]
  },
  {
   "cell_type": "code",
   "execution_count": 63,
   "metadata": {},
   "outputs": [],
   "source": [
    "y_train_pred = mlp_model.predict(X_train)\n",
    "y_test_pred = mlp_model.predict(X_test)"
   ]
  },
  {
   "cell_type": "code",
   "execution_count": 64,
   "metadata": {},
   "outputs": [
    {
     "name": "stdout",
     "output_type": "stream",
     "text": [
      "0.0 0.2866666666666667\n"
     ]
    }
   ],
   "source": [
    "# Ошибки на обучающей и тестовой выборках:\n",
    "print(np.mean(y_train != y_train_pred), np.mean(y_test != y_test_pred))"
   ]
  },
  {
   "cell_type": "markdown",
   "metadata": {},
   "source": [
    "Ошибка на тестовой выборке намного больше, чем на обучающей. Следовательно, присутствует переобучение"
   ]
  },
  {
   "cell_type": "markdown",
   "metadata": {},
   "source": [
    "## Подбор гиперпараметров"
   ]
  },
  {
   "cell_type": "markdown",
   "metadata": {},
   "source": [
    "Подберем оптимальное значение параметра регуляризации alpha"
   ]
  },
  {
   "cell_type": "code",
   "execution_count": 65,
   "metadata": {},
   "outputs": [],
   "source": [
    "alpha_arr = np.logspace(-3, 2, 40)\n",
    "test_err = []\n",
    "train_err = []\n",
    "for alpha in alpha_arr:\n",
    "    mlp_model = MLPClassifier(alpha = alpha, hidden_layer_sizes = (100,), \n",
    "                              solver = 'lbfgs', activation = 'logistic', random_state = 42)\n",
    "    mlp_model.fit(X_train, y_train)\n",
    "\n",
    "    y_train_pred = mlp_model.predict(X_train)\n",
    "    y_test_pred = mlp_model.predict(X_test)\n",
    "    train_err.append(np.mean(y_train != y_train_pred))\n",
    "    test_err.append(np.mean(y_test != y_test_pred))"
   ]
  },
  {
   "cell_type": "code",
   "execution_count": 66,
   "metadata": {},
   "outputs": [
    {
     "data": {
      "image/png": "[encoded data removed]",
      "text/plain": [
       "<Figure size 432x288 with 1 Axes>"
      ]
     },
     "metadata": {
      "needs_background": "light"
     },
     "output_type": "display_data"
    }
   ],
   "source": [
    "plt.semilogx(alpha_arr, train_err, 'b-o', label = 'test')\n",
    "plt.semilogx(alpha_arr, test_err, 'r-o', label = 'train')\n",
    "plt.xlim([np.max(alpha_arr), np.min(alpha_arr)])\n",
    "plt.title('Error vs. Alpha')\n",
    "plt.xlabel('alpha')\n",
    "plt.ylabel('error')\n",
    "plt.legend()\n",
    "pass"
   ]
  },
  {
   "cell_type": "markdown",
   "metadata": {},
   "source": [
    "Минимальное значение ошибки"
   ]
  },
  {
   "cell_type": "code",
   "execution_count": 67,
   "metadata": {},
   "outputs": [
    {
     "name": "stdout",
     "output_type": "stream",
     "text": [
      "0.0 0.21\n"
     ]
    }
   ],
   "source": [
    "min_train_err = np.min(train_err)\n",
    "min_test_err = np.min(test_err)\n",
    "print(min_train_err, min_test_err)"
   ]
  },
  {
   "cell_type": "markdown",
   "metadata": {},
   "source": [
    "Оптимальное значение alpha"
   ]
  },
  {
   "cell_type": "code",
   "execution_count": 68,
   "metadata": {},
   "outputs": [
    {
     "name": "stdout",
     "output_type": "stream",
     "text": [
      "1.1937766417144358\n"
     ]
    }
   ],
   "source": [
    "alpha_opt = alpha_arr[test_err == min_test_err]\n",
    "alpha_opt = alpha_opt[0]\n",
    "print(alpha_opt)"
   ]
  },
  {
   "cell_type": "markdown",
   "metadata": {},
   "source": [
    "Подберем оптимальное количество нейронов"
   ]
  },
  {
   "cell_type": "code",
   "execution_count": 69,
   "metadata": {},
   "outputs": [],
   "source": [
    "numNeurons_arr = np.arange(1,500,5)\n",
    "test_err = []\n",
    "train_err = []\n",
    "for neuron in numNeurons_arr:\n",
    "    mlp_model = MLPClassifier(alpha = alpha_opt, hidden_layer_sizes = (neuron, ), \n",
    "                              solver = 'lbfgs', activation = 'logistic', random_state = 42)\n",
    "    mlp_model.fit(X_train, y_train)\n",
    "\n",
    "    y_train_pred = mlp_model.predict(X_train)\n",
    "    y_test_pred = mlp_model.predict(X_test)\n",
    "    train_err.append(np.mean(y_train != y_train_pred))\n",
    "    test_err.append(np.mean(y_test != y_test_pred))"
   ]
  },
  {
   "cell_type": "code",
   "execution_count": 70,
   "metadata": {},
   "outputs": [
    {
     "data": {
      "image/png": "[encoded data removed]",
      "text/plain": [
       "<Figure size 432x288 with 1 Axes>"
      ]
     },
     "metadata": {
      "needs_background": "light"
     },
     "output_type": "display_data"
    }
   ],
   "source": [
    "plt.semilogx(numNeurons_arr, train_err, 'b-o', label = 'test')\n",
    "plt.semilogx(numNeurons_arr, test_err, 'r-o', label = 'train')\n",
    "plt.xlim([np.max(numNeurons_arr), np.min(numNeurons_arr)])\n",
    "plt.title('Error vs. neurons')\n",
    "plt.xlabel('neurons number')\n",
    "plt.ylabel('error')\n",
    "plt.legend()\n",
    "pass"
   ]
  },
  {
   "cell_type": "markdown",
   "metadata": {},
   "source": [
    "Минимальное значение ошибки"
   ]
  },
  {
   "cell_type": "code",
   "execution_count": 71,
   "metadata": {},
   "outputs": [
    {
     "name": "stdout",
     "output_type": "stream",
     "text": [
      "0.08285714285714285 0.19666666666666666\n"
     ]
    }
   ],
   "source": [
    "min_train_err = np.min(train_err)\n",
    "min_test_err = np.min(test_err)\n",
    "print(min_train_err, min_test_err)"
   ]
  },
  {
   "cell_type": "markdown",
   "metadata": {},
   "source": [
    "Оптимальное количество нейронов"
   ]
  },
  {
   "cell_type": "code",
   "execution_count": 72,
   "metadata": {},
   "outputs": [
    {
     "name": "stdout",
     "output_type": "stream",
     "text": [
      "121\n"
     ]
    }
   ],
   "source": [
    "neurons_opt = numNeurons_arr[test_err == min_test_err]\n",
    "neurons_opt = neurons_opt[0]\n",
    "print(neurons_opt)"
   ]
  },
  {
   "cell_type": "markdown",
   "metadata": {},
   "source": [
    "Подберем оптимальные значения alpha и нейронов одновременно"
   ]
  },
  {
   "cell_type": "code",
   "execution_count": 73,
   "metadata": {},
   "outputs": [],
   "source": [
    "numNeurons_arr = np.arange(1,200,5)\n",
    "alpha_arr = np.logspace(-3, 2, 40)\n",
    "alpha_opt = 0\n",
    "neurons_opt = 0\n",
    "current_test_error = 100\n",
    "for neuron in numNeurons_arr:\n",
    "    for alpha in alpha_arr:\n",
    "        mlp_model = MLPClassifier(alpha = alpha, hidden_layer_sizes = (neuron, ), \n",
    "                              solver = 'lbfgs', activation = 'logistic', random_state = 42)\n",
    "        mlp_model.fit(X_train, y_train)\n",
    "\n",
    "        y_test_pred = mlp_model.predict(X_test)\n",
    "        test_error = np.mean(y_test != y_test_pred)\n",
    "        if (test_error < current_test_error):\n",
    "            alpha_opt = alpha\n",
    "            neurons_opt = neuron\n",
    "            current_test_error = test_error"
   ]
  },
  {
   "cell_type": "code",
   "execution_count": 79,
   "metadata": {},
   "outputs": [
    {
     "name": "stdout",
     "output_type": "stream",
     "text": [
      "1.1937766417144358\n",
      "121\n"
     ]
    }
   ],
   "source": [
    "# Оптимальное значение alpha:\n",
    "print(alpha_opt)\n",
    "# Оптимальное количество нейронов:\n",
    "print(neurons_opt)"
   ]
  },
  {
   "cell_type": "markdown",
   "metadata": {},
   "source": [
    "Ранее подобранные отдельно параметры оказались такими же, как при одновременном подборе"
   ]
  },
  {
   "cell_type": "markdown",
   "metadata": {},
   "source": [
    "## Классификатор при найденных оптимальных значениях:"
   ]
  },
  {
   "cell_type": "markdown",
   "metadata": {},
   "source": [
    "Двуслойная нейронная сеть"
   ]
  },
  {
   "cell_type": "code",
   "execution_count": 74,
   "metadata": {},
   "outputs": [
    {
     "name": "stdout",
     "output_type": "stream",
     "text": [
      "0.15857142857142856 0.22333333333333333\n"
     ]
    }
   ],
   "source": [
    "mlp_model_2 = MLPClassifier(alpha = alpha_opt, hidden_layer_sizes = (neurons_opt, neurons_opt),\n",
    "                          solver = 'lbfgs', activation = 'logistic', random_state = 42)\n",
    "mlp_model_2.fit(X_train, y_train)\n",
    "\n",
    "y_train_pred = mlp_model_2.predict(X_train)\n",
    "y_test_pred = mlp_model_2.predict(X_test)\n",
    "print(np.mean(y_train != y_train_pred), np.mean(y_test != y_test_pred))"
   ]
  },
  {
   "cell_type": "markdown",
   "metadata": {},
   "source": [
    "Матрица рассогласования"
   ]
  },
  {
   "cell_type": "code",
   "execution_count": 75,
   "metadata": {},
   "outputs": [
    {
     "name": "stdout",
     "output_type": "stream",
     "text": [
      "[[186  44]\n",
      " [ 23  47]]\n"
     ]
    },
    {
     "data": {
      "image/png": "[encoded data removed]",
      "text/plain": [
       "<Figure size 432x288 with 2 Axes>"
      ]
     },
     "metadata": {
      "needs_background": "light"
     },
     "output_type": "display_data"
    }
   ],
   "source": [
    "print(confusion_matrix(y_test_pred, y_test))\n",
    "M = confusion_matrix(y_test_pred, y_test)\n",
    "M = np.sqrt(M)\n",
    "plt.imshow(M, interpolation = 'nearest')\n",
    "plt.set_cmap('binary')\n",
    "plt.xticks(range(2))\n",
    "plt.yticks(range(2))\n",
    "plt.xlabel(\"true label\")\n",
    "plt.ylabel(\"predicted label\")\n",
    "plt.colorbar()\n",
    "pass"
   ]
  },
  {
   "cell_type": "markdown",
   "metadata": {},
   "source": [
    "Однослойная нейронная сеть"
   ]
  },
  {
   "cell_type": "code",
   "execution_count": 76,
   "metadata": {},
   "outputs": [
    {
     "name": "stdout",
     "output_type": "stream",
     "text": [
      "0.14714285714285713 0.19666666666666666\n"
     ]
    }
   ],
   "source": [
    "mlp_model_1 = MLPClassifier(alpha = alpha_opt, hidden_layer_sizes = (neurons_opt,),\n",
    "                          solver = 'lbfgs', activation = 'logistic', random_state = 42)\n",
    "mlp_model_1.fit(X_train, y_train)\n",
    "\n",
    "y_train_pred = mlp_model_1.predict(X_train)\n",
    "y_test_pred = mlp_model_1.predict(X_test)\n",
    "print(np.mean(y_train != y_train_pred), np.mean(y_test != y_test_pred))"
   ]
  },
  {
   "cell_type": "markdown",
   "metadata": {},
   "source": [
    "Матрица рассогласования"
   ]
  },
  {
   "cell_type": "code",
   "execution_count": 77,
   "metadata": {},
   "outputs": [
    {
     "name": "stdout",
     "output_type": "stream",
     "text": [
      "[[196  46]\n",
      " [ 13  45]]\n"
     ]
    },
    {
     "data": {
      "image/png": "[encoded data removed]",
      "text/plain": [
       "<Figure size 432x288 with 2 Axes>"
      ]
     },
     "metadata": {
      "needs_background": "light"
     },
     "output_type": "display_data"
    }
   ],
   "source": [
    "print(confusion_matrix(y_test_pred, y_test))\n",
    "M = confusion_matrix(y_test_pred, y_test)\n",
    "M = np.sqrt(M)\n",
    "plt.imshow(M, interpolation = 'nearest')\n",
    "plt.set_cmap('binary')\n",
    "plt.xticks(range(2))\n",
    "plt.yticks(range(2))\n",
    "plt.xlabel(\"true label\")\n",
    "plt.ylabel(\"predicted label\")\n",
    "plt.colorbar()\n",
    "pass"
   ]
  },
  {
   "cell_type": "markdown",
   "metadata": {},
   "source": [
    "Однослойная нейронная сеть с подобранными оптимальными параметрами демонстрирует более низкие показатели ошибок на тренировочной и тестовой выборке, чем двуслойная. Следовательно, для решения поставленной задачи будет рассматриваться сеть с одним скрытым слоем."
   ]
  },
  {
   "cell_type": "markdown",
   "metadata": {},
   "source": [
    "## Другие метрики качества"
   ]
  },
  {
   "cell_type": "code",
   "execution_count": 78,
   "metadata": {},
   "outputs": [
    {
     "name": "stdout",
     "output_type": "stream",
     "text": [
      "              precision    recall  f1-score   support\n",
      "\n",
      "           1       0.81      0.94      0.87       209\n",
      "           2       0.78      0.49      0.60        91\n",
      "\n",
      "   micro avg       0.80      0.80      0.80       300\n",
      "   macro avg       0.79      0.72      0.74       300\n",
      "weighted avg       0.80      0.80      0.79       300\n",
      "\n"
     ]
    }
   ],
   "source": [
    "from sklearn.metrics import classification_report\n",
    "print(classification_report(y_test, y_test_pred))"
   ]
  },
  {
   "cell_type": "markdown",
   "metadata": {},
   "source": [
    "# Вывод"
   ]
  },
  {
   "cell_type": "markdown",
   "metadata": {},
   "source": [
    "Таким образом, обучение нейронной сети позволило снизить ошибку на тестовом наборе данных до 19,67%. Сравнивая с полученными ранее результатами, можно заметить, что реализованный в Лабораторной работе №2 способ классификации кредитного риска демонстрирует наименьшую ошибку на тестовой выборке и наименьшую ошибку первого рода. Однако, достаточно высокая ошибка второго рода."
   ]
  },
  {
   "cell_type": "markdown",
   "metadata": {},
   "source": [
    "| algorithm                      |      err_train      |       err_test      | false_positive | false_negative |\n",
    "|--------------------------------|:-------------------:|:-------------------:|:--------------:|:--------------:|\n",
    "| 𝑘NN                            |      0.222857       |         0.26        |       70       |        8       |\n",
    "| 𝑘NN (with parameter selection) |      0.227143       |         0.26        |       69       |        9       |\n",
    "| SVC                            |      0.232857       |       0.246667      |       70       |        4       |\n",
    "| SVC (with parameter selection) |      0.227143       |         0.26        |       70       |        4       |\n",
    "| Random Forest                  |         0.0         |         0.24        |       57       |       15       |\n",
    "| Extremely Randomized Trees     |         0.0         |       0.263333      |       55       |       24       |\n",
    "| AdaBoost                       |         0.12        |       0.293333      |       58       |       30       |\n",
    "| GBT                            |         0.0         |         0.24        |       45       |       27       |\n",
    "| **neural network training**    |    **0.1471429**    |     **0.196667**    |     **13**     |     **46**     |"
   ]
  },
  {
   "cell_type": "markdown",
   "metadata": {},
   "source": [
    "Также были рассмотрены метрики Precision, Recall, f1-score. Наблюдаются достаточно высокие показатели по первому классу.  "
   ]
  },
  {
   "cell_type": "markdown",
   "metadata": {},
   "source": [
    "Следующей задачей данной работы будет оптимизация показателя Recall и усовершенствование подготовки данных. "
   ]
  },
  {
   "cell_type": "code",
   "execution_count": null,
   "metadata": {},
   "outputs": [],
   "source": []
  }
 ],
 "metadata": {
  "kernelspec": {
   "display_name": "Python 3",
   "language": "python",
   "name": "python3"
  },
  "language_info": {
   "codemirror_mode": {
    "name": "ipython",
    "version": 3
   },
   "file_extension": ".py",
   "mimetype": "text/x-python",
   "name": "python",
   "nbconvert_exporter": "python",
   "pygments_lexer": "ipython3",
   "version": "3.7.0"
  }
 },
 "nbformat": 4,
 "nbformat_minor": 2
}
